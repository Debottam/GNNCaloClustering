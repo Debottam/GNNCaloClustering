{
 "cells": [
  {
   "cell_type": "markdown",
   "id": "679e6c0b",
   "metadata": {},
   "source": [
    "# Data preaparation\n"
   ]
  },
  {
   "cell_type": "code",
   "execution_count": 1,
   "id": "55d34e4a",
   "metadata": {},
   "outputs": [],
   "source": [
    "import uproot\n",
    "import numpy as np\n",
    "import networkx as nx\n",
    "import matplotlib.pyplot as plt\n",
    "from scipy.spatial.distance import cdist\n",
    "from sklearn.model_selection import cross_val_score, cross_val_predict, train_test_split\n",
    "from collections import namedtuple, defaultdict\n",
    "import open3d as o3d\n",
    "import random\n",
    "import h5py\n",
    "import torch\n",
    "import torch.nn as nn\n",
    "import torch.optim as optim\n",
    "from torch.utils.data import DataLoader, Dataset\n",
    "from torchvision import transforms\n",
    "from sklearn.preprocessing import StandardScaler, MinMaxScaler"
   ]
  },
  {
   "cell_type": "code",
   "execution_count": 2,
   "id": "25e5d2cb",
   "metadata": {},
   "outputs": [
    {
     "data": {
      "text/plain": [
       "'5.0.9'"
      ]
     },
     "execution_count": 2,
     "metadata": {},
     "output_type": "execute_result"
    }
   ],
   "source": [
    "uproot.__version__"
   ]
  },
  {
   "cell_type": "code",
   "execution_count": 4,
   "id": "9d838e46",
   "metadata": {},
   "outputs": [
    {
     "name": "stdout",
     "output_type": "stream",
     "text": [
      "CaloGNN.png                          Untitled.ipynb\r\n",
      "GNNKeras.ipynb                       ZacClub.ipynb\r\n",
      "LLP_for_Calo.ipynb                   fixed_length.py\r\n",
      "LLP_time-Copy1.ipynb                 input.txt\r\n",
      "LLP_time.ipynb                       karate.edgelist\r\n",
      "LLP_time_1.ipynb                     mlp-0000.params\r\n",
      "\u001b[34mMLBasedCaloClustering\u001b[m\u001b[m                mlp-symbol.json\r\n",
      "\u001b[34mMLBasedCaloClusteringPipeLine\u001b[m\u001b[m        mxHybrid.ipynb\r\n",
      "ML_01.ipynb                          mxnet_exported_mlp.onnx\r\n",
      "\u001b[34mML_Cell_data\u001b[m\u001b[m                         \u001b[34mmy_env\u001b[m\u001b[m\r\n",
      "ML_for_Calo.ipynb                    \u001b[34mnew_env\u001b[m\u001b[m\r\n",
      "ML_for_Calo_students.ipynb           \u001b[34msaved_model\u001b[m\u001b[m\r\n",
      "MyxAODAnalysis.outputs_600evs.root   trackML.ipynb\r\n",
      "MyxAODAnalysis_withNB_1.outputs.root\r\n"
     ]
    }
   ],
   "source": [
    "!ls .."
   ]
  },
  {
   "cell_type": "code",
   "execution_count": 5,
   "id": "58bf9e0b",
   "metadata": {},
   "outputs": [],
   "source": [
    "file = uproot.open(\"../MyxAODAnalysis.outputs_600evs.root\")"
   ]
  },
  {
   "cell_type": "code",
   "execution_count": 6,
   "id": "107255ef",
   "metadata": {},
   "outputs": [
    {
     "data": {
      "text/plain": [
       "['analysis;1']"
      ]
     },
     "execution_count": 6,
     "metadata": {},
     "output_type": "execute_result"
    }
   ],
   "source": [
    "file.keys()"
   ]
  },
  {
   "cell_type": "code",
   "execution_count": 7,
   "id": "b0470332",
   "metadata": {},
   "outputs": [],
   "source": [
    "tree = file['analysis']"
   ]
  },
  {
   "cell_type": "code",
   "execution_count": 8,
   "id": "c2c0d132",
   "metadata": {},
   "outputs": [],
   "source": [
    "branches = tree.arrays()"
   ]
  },
  {
   "cell_type": "code",
   "execution_count": 9,
   "id": "885f1fb8",
   "metadata": {},
   "outputs": [
    {
     "name": "stdout",
     "output_type": "stream",
     "text": [
      "['RunNumber', 'EventNumber', 'cell_eta', 'cell_phi', 'cell_x', 'cell_y', 'cell_z', 'cell_subCalo', 'cell_sampling', 'cell_size', 'cell_hashID', 'neighbor', 'seedCell_id', 'cell_e', 'cell_noiseSigma', 'cell_SNR', 'cell_time', 'cell_weight', 'cell_truth', 'cell_truth_indices', 'cell_shared_indices', 'cell_cluster_index', 'cluster_to_cell_indices', 'cluster_to_cell_weights', 'cell_to_cluster_e', 'cell_to_cluster_eta', 'cell_to_cluster_phi', 'cluster_eta', 'cluster_phi', 'cluster_e', 'cellsNo_cluster', 'clustersNo_event', 'jetEnergyWtdTimeAve', 'jetEta', 'jetPhi', 'jetE', 'jetPt', 'jetNumberPerEvent', 'cellIndices_per_jet']\n"
     ]
    }
   ],
   "source": [
    "print(tree.keys()) # no. of variables per event"
   ]
  },
  {
   "cell_type": "code",
   "execution_count": 10,
   "id": "547f8fd5",
   "metadata": {},
   "outputs": [
    {
     "data": {
      "text/plain": [
       "839"
      ]
     },
     "execution_count": 10,
     "metadata": {},
     "output_type": "execute_result"
    }
   ],
   "source": [
    "len(branches['cluster_to_cell_indices'][0])"
   ]
  },
  {
   "cell_type": "markdown",
   "id": "e0dda46d",
   "metadata": {},
   "source": [
    "# Preparing data with required features for 600 events"
   ]
  },
  {
   "cell_type": "code",
   "execution_count": 10,
   "id": "df3cc3cd",
   "metadata": {},
   "outputs": [],
   "source": [
    "cell_coordinate_x = branches['cell_x']\n",
    "cell_coordinate_y = branches['cell_y']\n",
    "cell_coordinate_z = branches['cell_z']\n",
    "cell_eta = branches['cell_eta']\n",
    "cell_phi = branches['cell_phi']\n",
    "cell_subCalo = branches['cell_subCalo']\n",
    "cell_sampling = branches['cell_sampling']\n",
    "cell_weight = branches['cell_weight']\n",
    "cell_truth = branches['cell_truth']\n",
    "cell_to_cluster_e = branches['cell_to_cluster_e']\n",
    "cell_noiseSigma = branches['cell_noiseSigma']\n",
    "cell_SNR = branches['cell_SNR']\n",
    "cell_time = branches['cell_time']\n",
    "cellsNo_cluster = branches['cellsNo_cluster']\n",
    "clustersNo_event = branches['clustersNo_event']\n",
    "cell_cluster_index = branches['cell_cluster_index']\n",
    "cell_e = branches['cell_e']\n",
    "cluster_to_cell_indices = branches['cluster_to_cell_indices']\n",
    "neighbor = branches['neighbor']"
   ]
  },
  {
   "cell_type": "code",
   "execution_count": 12,
   "id": "8c5d6f44",
   "metadata": {},
   "outputs": [],
   "source": [
    "cell_coordinate_x = np.array(cell_coordinate_x)\n",
    "cell_coordinate_y = np.array(cell_coordinate_y)\n",
    "cell_coordinate_z = np.array(cell_coordinate_z)\n",
    "cell_eta = np.array(cell_eta)\n",
    "cell_phi = np.array(cell_phi)\n",
    "cell_subCalo = np.array(cell_subCalo)\n",
    "cell_sampling = np.array(cell_sampling)\n",
    "cell_weight = np.array(cell_weight)\n",
    "cell_truth = np.array(cell_truth)\n",
    "cell_to_cluster_e = np.array(cell_to_cluster_e)\n",
    "cell_noiseSigma = np.array(cell_noiseSigma)\n",
    "cell_SNR = np.array(cell_SNR)\n",
    "cell_time = np.array(cell_time)\n",
    "#cellsNo_cluster = np.array(cellsNo_cluster)\n",
    "clustersNo_event = np.array(clustersNo_event)\n",
    "cell_to_cluster_index = np.array(cell_cluster_index)\n",
    "cell_e = np.array(cell_e)"
   ]
  },
  {
   "cell_type": "code",
   "execution_count": 13,
   "id": "ee98257e",
   "metadata": {},
   "outputs": [
    {
     "data": {
      "text/plain": [
       "(600, 187652)"
      ]
     },
     "execution_count": 13,
     "metadata": {},
     "output_type": "execute_result"
    }
   ],
   "source": [
    "cell_to_cluster_index.shape"
   ]
  },
  {
   "cell_type": "code",
   "execution_count": 14,
   "id": "08e19d7f",
   "metadata": {},
   "outputs": [
    {
     "data": {
      "text/plain": [
       "757"
      ]
     },
     "execution_count": 14,
     "metadata": {},
     "output_type": "execute_result"
    }
   ],
   "source": [
    "len(cellsNo_cluster[1])"
   ]
  },
  {
   "cell_type": "code",
   "execution_count": 15,
   "id": "5dcd0d0c",
   "metadata": {},
   "outputs": [],
   "source": [
    "data = {}\n",
    "for i in range(600):\n",
    "    data[f\"data_{i}\"] = np.concatenate((np.expand_dims(cell_coordinate_x[i], axis=1), np.expand_dims(cell_coordinate_y[i], axis=1), np.expand_dims(cell_coordinate_z[i], axis=1),\n",
    "                        np.expand_dims(cell_eta[i], axis=1), np.expand_dims(cell_phi[i], axis=1),\n",
    "                        np.expand_dims(cell_sampling[i], axis=1),\n",
    "                        np.expand_dims(cell_noiseSigma[i], axis=1),\n",
    "                        np.expand_dims(cell_e[i], axis=1)), axis=1)"
   ]
  },
  {
   "cell_type": "code",
   "execution_count": 16,
   "id": "bc94ea6c",
   "metadata": {},
   "outputs": [
    {
     "data": {
      "text/plain": [
       "(187652, 8)"
      ]
     },
     "execution_count": 16,
     "metadata": {},
     "output_type": "execute_result"
    }
   ],
   "source": [
    "data['data_2'].shape"
   ]
  },
  {
   "cell_type": "code",
   "execution_count": 17,
   "id": "c42a25fc",
   "metadata": {},
   "outputs": [],
   "source": [
    "def save_dict_to_hdf5(dic, filename):\n",
    "    \"\"\"\n",
    "    Save a dictionary to an HDF5 file\n",
    "    \"\"\"\n",
    "    with h5py.File(filename, 'w') as f:\n",
    "        _save_dict_to_hdf5(f, dic)\n",
    "\n",
    "def _save_dict_to_hdf5(group, dic):\n",
    "    \"\"\"\n",
    "    Save a dictionary to an HDF5 group\n",
    "    \"\"\"\n",
    "    for key, value in dic.items():\n",
    "        if isinstance(value, dict):\n",
    "            subgroup = group.create_group(key)\n",
    "            _save_dict_to_hdf5(subgroup, value)\n",
    "        else:\n",
    "            if isinstance(value, list):\n",
    "                # Convert list to numpy array before saving\n",
    "                value = np.array(value)\n",
    "            group[key] = value"
   ]
  },
  {
   "cell_type": "code",
   "execution_count": 18,
   "id": "4f552e32",
   "metadata": {},
   "outputs": [],
   "source": [
    "save_dict_to_hdf5(data,'./cellFeatures_600evs.hdf5')"
   ]
  },
  {
   "cell_type": "markdown",
   "id": "55226834",
   "metadata": {},
   "source": [
    "## Loading neighbor cell pairs"
   ]
  },
  {
   "cell_type": "code",
   "execution_count": 21,
   "id": "e4103870",
   "metadata": {},
   "outputs": [],
   "source": [
    "hf_neighbor_pairs_unique_sorted= h5py.File(\"./neighbor_pairs_unique_sorted.hdf5\", 'r')\n",
    "neighbor_pairs_unique_sorted = hf_neighbor_pairs_unique_sorted.get(\"neighbor_pair\")[:]\n",
    "hf_neighbor_pairs_unique_sorted.close()"
   ]
  },
  {
   "cell_type": "code",
   "execution_count": 22,
   "id": "e179fcbd",
   "metadata": {},
   "outputs": [
    {
     "data": {
      "text/plain": [
       "1250242"
      ]
     },
     "execution_count": 22,
     "metadata": {},
     "output_type": "execute_result"
    }
   ],
   "source": [
    "len(neighbor_pairs_unique_sorted)"
   ]
  },
  {
   "cell_type": "code",
   "execution_count": 23,
   "id": "a1d08de6",
   "metadata": {},
   "outputs": [
    {
     "data": {
      "text/plain": [
       "(1250242, 2)"
      ]
     },
     "execution_count": 23,
     "metadata": {},
     "output_type": "execute_result"
    }
   ],
   "source": [
    "neighbor_pairs_unique_sorted.shape"
   ]
  },
  {
   "cell_type": "markdown",
   "id": "2bb9a8fa",
   "metadata": {},
   "source": [
    "## Creating Labels for neighbor_pairs"
   ]
  },
  {
   "cell_type": "code",
   "execution_count": 24,
   "id": "fe81a4b0",
   "metadata": {},
   "outputs": [
    {
     "data": {
      "text/plain": [
       "(600, 187652)"
      ]
     },
     "execution_count": 24,
     "metadata": {},
     "output_type": "execute_result"
    }
   ],
   "source": [
    "cell_to_cluster_index.shape"
   ]
  },
  {
   "cell_type": "code",
   "execution_count": 25,
   "id": "2d2d013f",
   "metadata": {},
   "outputs": [],
   "source": [
    "true_neighbor_cluster = []\n",
    "for i in range(600):\n",
    "    true_neighbor_cluster_event = []\n",
    "    for pair in neighbor_pairs_unique_sorted:\n",
    "        if cell_to_cluster_index[i][pair[0]]==cell_to_cluster_index[i][pair[1]]:\n",
    "            if cell_to_cluster_index[i][pair[0]] != 0:\n",
    "                true_neighbor_cluster_event.append(1)\n",
    "            else:\n",
    "                true_neighbor_cluster_event.append(9) # labelling 9 to non participating cells\n",
    "        else:\n",
    "            if cell_to_cluster_index[i][pair[0]]!=0 and cell_to_cluster_index[i][pair[1]]!=0: \n",
    "                true_neighbor_cluster_event.append(10) # labelling 10 for cells from two different clusters\n",
    "            else:\n",
    "                true_neighbor_cluster_event.append(0)  # labelling 0 for cell from  cluster and nonparticipaing cell\n",
    "    true_neighbor_cluster.append(true_neighbor_cluster_event)"
   ]
  },
  {
   "cell_type": "code",
   "execution_count": 26,
   "id": "670cb2f8",
   "metadata": {},
   "outputs": [],
   "source": [
    "with h5py.File('./neigbor_truth_600evs.hdf5', 'w') as f: \n",
    "    dset = f.create_dataset(\"neigbor_truth_600evs\", data = true_neighbor_cluster)"
   ]
  },
  {
   "cell_type": "code",
   "execution_count": null,
   "id": "3cfddb00",
   "metadata": {},
   "outputs": [],
   "source": []
  }
 ],
 "metadata": {
  "kernelspec": {
   "display_name": "my_env",
   "language": "python",
   "name": "my_env"
  },
  "language_info": {
   "codemirror_mode": {
    "name": "ipython",
    "version": 3
   },
   "file_extension": ".py",
   "mimetype": "text/x-python",
   "name": "python",
   "nbconvert_exporter": "python",
   "pygments_lexer": "ipython3",
   "version": "3.8.6"
  }
 },
 "nbformat": 4,
 "nbformat_minor": 5
}
