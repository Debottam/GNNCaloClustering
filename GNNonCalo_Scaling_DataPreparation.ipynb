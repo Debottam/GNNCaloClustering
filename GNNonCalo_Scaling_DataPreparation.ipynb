{
 "cells": [
  {
   "cell_type": "markdown",
   "id": "87735cbe",
   "metadata": {},
   "source": [
    "## Required Packages"
   ]
  },
  {
   "cell_type": "code",
   "execution_count": 2,
   "id": "47f0bae2",
   "metadata": {
    "tags": []
   },
   "outputs": [],
   "source": [
    "#import uproot\n",
    "import numpy as np\n",
    "import networkx as nx\n",
    "import matplotlib.pyplot as plt\n",
    "from scipy.spatial.distance import cdist\n",
    "from sklearn.model_selection import cross_val_score, cross_val_predict, train_test_split\n",
    "from collections import namedtuple, defaultdict\n",
    "#import open3d as o3d\n",
    "import random\n",
    "random.seed(42)\n",
    "import h5py\n",
    "import torch\n",
    "import torch.nn as nn\n",
    "import torch.optim as optim\n",
    "from torch.utils.data import DataLoader, Dataset\n",
    "from torch_geometric.data import Data\n",
    "from torch_geometric.nn import GCNConv\n",
    "from torch_geometric.utils import add_self_loops\n",
    "from torchvision import transforms\n",
    "from sklearn.preprocessing import StandardScaler, MinMaxScaler\n",
    "import joblib\n",
    "import json"
   ]
  },
  {
   "cell_type": "markdown",
   "id": "13d83828",
   "metadata": {},
   "source": [
    "## Reading and arranging data "
   ]
  },
  {
   "cell_type": "code",
   "execution_count": 3,
   "id": "cb5323b2",
   "metadata": {
    "tags": []
   },
   "outputs": [],
   "source": [
    "# Short function to read hdf5 file stored as a dict\n",
    "def hdf5_to_dict(hdf5_file):\n",
    "    \"\"\"\n",
    "    Convert HDF5 file to Python dictionary\n",
    "    \"\"\"\n",
    "    data_dict = {}\n",
    "    _hdf5_to_dict(hdf5_file, data_dict)\n",
    "    return data_dict\n",
    "\n",
    "def _hdf5_to_dict(group, dic):\n",
    "    \"\"\"\n",
    "    Convert HDF5 group to dictionary recursively\n",
    "    \"\"\"\n",
    "    for key, item in group.items():\n",
    "        if isinstance(item, h5py.Group):\n",
    "            subgroup = {}\n",
    "            _hdf5_to_dict(item, subgroup)\n",
    "            dic[key] = subgroup\n",
    "        else:\n",
    "            dic[key] = np.array(item)"
   ]
  },
  {
   "cell_type": "code",
   "execution_count": 4,
   "id": "ebca3ac6",
   "metadata": {
    "tags": []
   },
   "outputs": [],
   "source": [
    "# cell features of 600 events (600 X 180k)\n",
    "with h5py.File('./cellFeatures_600evs.hdf5', 'r') as f:\n",
    "    # Convert HDF5 to dictionary\n",
    "    data_dict = hdf5_to_dict(f)"
   ]
  },
  {
   "cell_type": "code",
   "execution_count": 5,
   "id": "c6186f13",
   "metadata": {
    "tags": []
   },
   "outputs": [],
   "source": [
    "f.close()"
   ]
  },
  {
   "cell_type": "code",
   "execution_count": 6,
   "id": "fe7e1589",
   "metadata": {
    "tags": []
   },
   "outputs": [],
   "source": [
    "# storing 600 events as dict data_0, data_1 ... data_599 not sure why I am doing this\n",
    "dynamic_variables = {}\n",
    "\n",
    "# Generate variable names dynamically and assign values to them\n",
    "for i in range(600):\n",
    "    var_name = f\"data_{i}\"\n",
    "    dynamic_variables[var_name] = data_dict[var_name]"
   ]
  },
  {
   "cell_type": "code",
   "execution_count": 8,
   "id": "269328c6",
   "metadata": {
    "tags": []
   },
   "outputs": [],
   "source": [
    "# alligning data feature wise for scaling\n",
    "data_600 = np.concatenate([value for key, value in list(dynamic_variables.items())])"
   ]
  },
  {
   "cell_type": "code",
   "execution_count": 9,
   "id": "fa0da959",
   "metadata": {
    "tags": []
   },
   "outputs": [
    {
     "data": {
      "text/plain": [
       "(112591200, 8)"
      ]
     },
     "execution_count": 9,
     "metadata": {},
     "output_type": "execute_result"
    }
   ],
   "source": [
    "data_600.shape"
   ]
  },
  {
   "cell_type": "code",
   "execution_count": 11,
   "id": "7c4fc188",
   "metadata": {
    "tags": []
   },
   "outputs": [],
   "source": [
    "# truth labels for each neighbour edges\n",
    "hf_neigbor_truth_600evs = h5py.File(\"./neigbor_truth_600evs.hdf5\", 'r')"
   ]
  },
  {
   "cell_type": "code",
   "execution_count": 12,
   "id": "7b71f9a2",
   "metadata": {
    "tags": []
   },
   "outputs": [],
   "source": [
    "neigbor_truth_600evs = hf_neigbor_truth_600evs.get(\"neigbor_truth_600evs\")[:]"
   ]
  },
  {
   "cell_type": "code",
   "execution_count": 13,
   "id": "e9a4ea75",
   "metadata": {
    "tags": []
   },
   "outputs": [],
   "source": [
    "hf_neigbor_truth_600evs.close()"
   ]
  },
  {
   "cell_type": "code",
   "execution_count": 14,
   "id": "bebb894b",
   "metadata": {
    "tags": []
   },
   "outputs": [
    {
     "data": {
      "text/plain": [
       "(600, 1250242)"
      ]
     },
     "execution_count": 14,
     "metadata": {},
     "output_type": "execute_result"
    }
   ],
   "source": [
    "neigbor_truth_600evs.shape"
   ]
  },
  {
   "cell_type": "markdown",
   "id": "d367cb0c",
   "metadata": {},
   "source": [
    "## Collecteing indices of neighbour edges based on truth (1,9,10,0)"
   ]
  },
  {
   "cell_type": "code",
   "execution_count": 15,
   "id": "7af66115",
   "metadata": {
    "tags": []
   },
   "outputs": [],
   "source": [
    "# there are 4 types of neighbor labeling \n",
    "# true (same cluster cell pair): 1\n",
    "# fake/bkg (lone/non participating cell pair): 9\n",
    "# fake/bkg (cluster-lone cell pair): 0\n",
    "# fake/bkg (cluster-cluster cell pair): 10\n",
    "\n",
    "true = []\n",
    "bkg_lone = []\n",
    "bkg_cluster_lone = []\n",
    "bkg_cluster_cluster = []\n",
    "\n",
    "for i in range(600):\n",
    "    true_pair = np.where(neigbor_truth_600evs[i]==1)\n",
    "    true.append(list(true_pair[0]))\n",
    "    bkg_lone_pair = np.where(neigbor_truth_600evs[i]==9)\n",
    "    bkg_lone.append(list(bkg_lone_pair[0]))\n",
    "    bkg_cluster_lone_pair = np.where(neigbor_truth_600evs[i]==0)\n",
    "    bkg_cluster_lone.append(list(bkg_cluster_lone_pair[0]))\n",
    "    bkg_cluster_cluster_pair = np.where(neigbor_truth_600evs[i]==10)\n",
    "    bkg_cluster_cluster.append(list(bkg_cluster_cluster_pair[0]))"
   ]
  },
  {
   "cell_type": "markdown",
   "id": "f34beaa6",
   "metadata": {},
   "source": [
    "## Collecting length of each edge (true, bkg_lone, bkg_cluster_lone, bkg_cluster_cluster)"
   ]
  },
  {
   "cell_type": "code",
   "execution_count": 16,
   "id": "c4f79639",
   "metadata": {
    "tags": []
   },
   "outputs": [],
   "source": [
    "# checking length is important since its complicated to deal with awkward arrays\n",
    "# try make sample as n x m matrix (so n: events, m: true/bkg samples)\n",
    "\n",
    "true_len = []\n",
    "bkg_lone_len = []\n",
    "bkg_cluster_lone_len = []\n",
    "bkg_cluster_cluster_len = []\n",
    "for i in range(600):\n",
    "    true_len.append(len(true[i]))\n",
    "    bkg_lone_len.append(len(bkg_lone[i]))\n",
    "    bkg_cluster_lone_len.append(len(bkg_cluster_lone[i]))\n",
    "    bkg_cluster_cluster_len.append(len(bkg_cluster_cluster[i]))"
   ]
  },
  {
   "cell_type": "markdown",
   "id": "f0c02183",
   "metadata": {},
   "source": [
    "## Sorting all len arrays in Dscennding order"
   ]
  },
  {
   "cell_type": "code",
   "execution_count": 17,
   "id": "c0e19ffd-b5fb-4b20-af01-62a37ca8df3b",
   "metadata": {
    "tags": []
   },
   "outputs": [],
   "source": [
    "true_len = np.array(true_len)\n",
    "bkg_lone_len = np.array(bkg_lone_len)\n",
    "bkg_cluster_lone_len = np.array(bkg_cluster_lone_len)\n",
    "bkg_cluster_cluster_len = np.array(bkg_cluster_cluster_len)"
   ]
  },
  {
   "cell_type": "code",
   "execution_count": 18,
   "id": "de879a4f-a6b1-48ca-9ee0-9d4f9e838946",
   "metadata": {
    "tags": []
   },
   "outputs": [],
   "source": [
    "# sorting 600 events in descending orders of cluster_cluster sample len as they are the rarest\n",
    "sorted_cluster_cluster_len_indices = np.argsort(-bkg_cluster_cluster_len)"
   ]
  },
  {
   "cell_type": "code",
   "execution_count": 19,
   "id": "a66dd9bb",
   "metadata": {
    "tags": []
   },
   "outputs": [],
   "source": [
    "# Rearranging all edge/pair samples of 600 events based on cluster_cluster sample len\n",
    "true_len_sorted = true_len[sorted_cluster_cluster_len_indices]\n",
    "bkg_lone_len_sorted = bkg_lone_len[sorted_cluster_cluster_len_indices]\n",
    "bkg_cluster_lone_len_sorted = bkg_cluster_lone_len[sorted_cluster_cluster_len_indices]\n",
    "bkg_cluster_cluster_len_sorted = bkg_cluster_cluster_len[sorted_cluster_cluster_len_indices]"
   ]
  },
  {
   "cell_type": "code",
   "execution_count": 20,
   "id": "c4c0739e-ce94-4a5c-a7db-83fb629eb1df",
   "metadata": {
    "tags": []
   },
   "outputs": [],
   "source": [
    "# Rearranging all edge/pair samples of 600 events based on cluster_cluster sample len\n",
    "true_sorted = [true[i] for i in sorted_cluster_cluster_len_indices]\n",
    "bkg_lone_sorted = [bkg_lone[i] for i in sorted_cluster_cluster_len_indices]\n",
    "bkg_cluster_lone_sorted = [bkg_cluster_lone[i] for i in sorted_cluster_cluster_len_indices]\n",
    "bkg_cluster_cluster_sorted = [bkg_cluster_cluster[i] for i in sorted_cluster_cluster_len_indices]"
   ]
  },
  {
   "cell_type": "code",
   "execution_count": 21,
   "id": "1737e413-c80e-4fb0-b475-5b85a7ea4db6",
   "metadata": {
    "tags": []
   },
   "outputs": [],
   "source": [
    "#train len\n",
    "true_len_sorted_500 = true_len_sorted[:500]\n",
    "bkg_lone_len_sorted_500 = bkg_lone_len_sorted[:500]\n",
    "bkg_cluster_lone_len_sorted_500 = bkg_cluster_lone_len_sorted[:500]\n",
    "bkg_cluster_cluster_len_sorted_500 = bkg_cluster_cluster_len_sorted[:500]\n",
    "\n",
    "#test len\n",
    "true_len_sorted_100 = true_len_sorted[500:]\n",
    "bkg_lone_len_sorted_100 = bkg_lone_len_sorted[500:]\n",
    "bkg_cluster_lone_len_sorted_100 = bkg_cluster_lone_len_sorted[500:]\n",
    "bkg_cluster_cluster_len_sorted_100 = bkg_cluster_cluster_len_sorted[500:]"
   ]
  },
  {
   "cell_type": "code",
   "execution_count": 22,
   "id": "a3448eaa-1411-421e-be5a-356f1df3ce81",
   "metadata": {
    "tags": []
   },
   "outputs": [],
   "source": [
    "#train sample\n",
    "true_sorted_500 = true_sorted[:500]\n",
    "bkg_lone_sorted_500 = bkg_lone_sorted[:500]\n",
    "bkg_cluster_lone_sorted_500 = bkg_cluster_lone_sorted[:500]\n",
    "bkg_cluster_cluster_sorted_500 = bkg_cluster_cluster_sorted[:500]\n",
    "\n",
    "#test sample\n",
    "true_sorted_100 = true_sorted[500:]\n",
    "bkg_lone_sorted_100 = bkg_lone_sorted[500:]\n",
    "bkg_cluster_lone_sorted_100 = bkg_cluster_lone_sorted[500:]\n",
    "bkg_cluster_cluster_sorted_100 = bkg_cluster_cluster_sorted[500:]\n"
   ]
  },
  {
   "cell_type": "code",
   "execution_count": 22,
   "id": "3d743753-1368-4626-befe-5adeb25f8718",
   "metadata": {
    "tags": []
   },
   "outputs": [
    {
     "data": {
      "text/plain": [
       "500"
      ]
     },
     "execution_count": 22,
     "metadata": {},
     "output_type": "execute_result"
    }
   ],
   "source": [
    "len(bkg_cluster_cluster_sorted_500)"
   ]
  },
  {
   "cell_type": "markdown",
   "id": "cc842415",
   "metadata": {},
   "source": [
    "### Checking the minimum length of each type of edges (true, bkg_l, bkg_c_l, bkg_c_c)"
   ]
  },
  {
   "cell_type": "code",
   "execution_count": 23,
   "id": "4dd76f26",
   "metadata": {
    "tags": []
   },
   "outputs": [
    {
     "data": {
      "text/plain": [
       "15451"
      ]
     },
     "execution_count": 23,
     "metadata": {},
     "output_type": "execute_result"
    }
   ],
   "source": [
    "min(true_len_sorted_500)"
   ]
  },
  {
   "cell_type": "code",
   "execution_count": 24,
   "id": "2e475c95",
   "metadata": {
    "tags": []
   },
   "outputs": [
    {
     "data": {
      "text/plain": [
       "858254"
      ]
     },
     "execution_count": 24,
     "metadata": {},
     "output_type": "execute_result"
    }
   ],
   "source": [
    "min(bkg_lone_len_sorted_500)"
   ]
  },
  {
   "cell_type": "code",
   "execution_count": 25,
   "id": "9b0613b6",
   "metadata": {
    "tags": []
   },
   "outputs": [
    {
     "data": {
      "text/plain": [
       "24187"
      ]
     },
     "execution_count": 25,
     "metadata": {},
     "output_type": "execute_result"
    }
   ],
   "source": [
    "min(bkg_cluster_lone_len_sorted_500)"
   ]
  },
  {
   "cell_type": "code",
   "execution_count": 26,
   "id": "3a6c1e46",
   "metadata": {
    "tags": []
   },
   "outputs": [
    {
     "data": {
      "text/plain": [
       "2101"
      ]
     },
     "execution_count": 26,
     "metadata": {},
     "output_type": "execute_result"
    }
   ],
   "source": [
    "min(bkg_cluster_cluster_len_sorted_500)"
   ]
  },
  {
   "cell_type": "markdown",
   "id": "5ddfc679",
   "metadata": {},
   "source": [
    "### Based on minimum lengths concluding true: 15k, bkg_l: 6_5k, bkg_c_l: 6_5k, bkg_c_c: 2k"
   ]
  },
  {
   "cell_type": "code",
   "execution_count": 28,
   "id": "6932696b-bb8a-45d3-9ee4-43f457021efe",
   "metadata": {
    "tags": []
   },
   "outputs": [],
   "source": [
    "true_15k = [random.sample(row, 15000) for row in true_sorted_500]\n",
    "bkg_lone_6p5k = [random.sample(row, 6500) for row in bkg_lone_sorted_500]\n",
    "bkg_cluster_lone_6p5k = [random.sample(row, 6500) for row in bkg_cluster_lone_sorted_500]\n",
    "bkg_cluster_cluster_2k = [random.sample(row, 2000) for row in bkg_cluster_cluster_sorted_500]"
   ]
  },
  {
   "cell_type": "code",
   "execution_count": 29,
   "id": "c5620bf0",
   "metadata": {
    "tags": []
   },
   "outputs": [],
   "source": [
    "true_15k = np.array(true_15k)\n",
    "bkg_lone_6p5k = np.array(bkg_lone_6p5k)\n",
    "bkg_cluster_lone_6p5k = np.array(bkg_cluster_lone_6p5k)\n",
    "bkg_cluster_cluster_2k = np.array(bkg_cluster_cluster_2k)"
   ]
  },
  {
   "cell_type": "code",
   "execution_count": 30,
   "id": "39dbdecf",
   "metadata": {
    "tags": []
   },
   "outputs": [
    {
     "data": {
      "text/plain": [
       "(500, 15000)"
      ]
     },
     "execution_count": 30,
     "metadata": {},
     "output_type": "execute_result"
    }
   ],
   "source": [
    "true_15k.shape"
   ]
  },
  {
   "cell_type": "code",
   "execution_count": 31,
   "id": "dedd5292",
   "metadata": {
    "tags": []
   },
   "outputs": [
    {
     "data": {
      "text/plain": [
       "(500, 6500)"
      ]
     },
     "execution_count": 31,
     "metadata": {},
     "output_type": "execute_result"
    }
   ],
   "source": [
    "bkg_lone_6p5k.shape"
   ]
  },
  {
   "cell_type": "code",
   "execution_count": 32,
   "id": "16729afb-1cd3-4504-995b-3cdf608900c0",
   "metadata": {
    "tags": []
   },
   "outputs": [
    {
     "data": {
      "text/plain": [
       "(500, 2000)"
      ]
     },
     "execution_count": 32,
     "metadata": {},
     "output_type": "execute_result"
    }
   ],
   "source": [
    "bkg_cluster_cluster_2k.shape"
   ]
  },
  {
   "cell_type": "code",
   "execution_count": 33,
   "id": "2faa7c31",
   "metadata": {
    "tags": []
   },
   "outputs": [],
   "source": [
    "bkg_total = np.concatenate((bkg_lone_6p5k, bkg_cluster_lone_6p5k, bkg_cluster_cluster_2k), axis =1)"
   ]
  },
  {
   "cell_type": "code",
   "execution_count": 34,
   "id": "db5477de",
   "metadata": {
    "tags": []
   },
   "outputs": [
    {
     "data": {
      "text/plain": [
       "(500, 15000)"
      ]
     },
     "execution_count": 34,
     "metadata": {},
     "output_type": "execute_result"
    }
   ],
   "source": [
    "bkg_total.shape"
   ]
  },
  {
   "cell_type": "markdown",
   "id": "96c4d616",
   "metadata": {},
   "source": [
    "### Labelling for true/signal and fake/bkg as 1, 0"
   ]
  },
  {
   "cell_type": "code",
   "execution_count": 35,
   "id": "cd1c218f",
   "metadata": {
    "tags": []
   },
   "outputs": [],
   "source": [
    "bkg_truth = np.zeros((500, 15000), dtype=int)\n",
    "true_truth = np.ones((500, 15000), dtype=int)"
   ]
  },
  {
   "cell_type": "code",
   "execution_count": 36,
   "id": "382580e1",
   "metadata": {
    "tags": []
   },
   "outputs": [],
   "source": [
    "total_truth = np.concatenate((true_truth,bkg_truth), axis =1)"
   ]
  },
  {
   "cell_type": "code",
   "execution_count": 37,
   "id": "25ac3ab5",
   "metadata": {
    "tags": []
   },
   "outputs": [
    {
     "data": {
      "text/plain": [
       "(500, 30000)"
      ]
     },
     "execution_count": 37,
     "metadata": {},
     "output_type": "execute_result"
    }
   ],
   "source": [
    "total_truth.shape"
   ]
  },
  {
   "cell_type": "code",
   "execution_count": 38,
   "id": "4d558888",
   "metadata": {
    "tags": []
   },
   "outputs": [],
   "source": [
    "total_training_indices = np.concatenate((true_15k,bkg_total), axis =1)"
   ]
  },
  {
   "cell_type": "code",
   "execution_count": 39,
   "id": "e6107c98",
   "metadata": {
    "tags": []
   },
   "outputs": [
    {
     "data": {
      "text/plain": [
       "(500, 30000)"
      ]
     },
     "execution_count": 39,
     "metadata": {},
     "output_type": "execute_result"
    }
   ],
   "source": [
    "total_training_indices.shape"
   ]
  },
  {
   "cell_type": "code",
   "execution_count": 40,
   "id": "81067b3a",
   "metadata": {
    "tags": []
   },
   "outputs": [],
   "source": [
    "rand_index = []\n",
    "for i in range(500):\n",
    "    arr = np.arange(30000)\n",
    "    np.random.shuffle(arr)\n",
    "    rand_index.append(arr)"
   ]
  },
  {
   "cell_type": "code",
   "execution_count": 41,
   "id": "11795598",
   "metadata": {
    "tags": []
   },
   "outputs": [],
   "source": [
    "rand_index = np.array(rand_index)"
   ]
  },
  {
   "cell_type": "code",
   "execution_count": 42,
   "id": "2d863d94",
   "metadata": {
    "tags": []
   },
   "outputs": [
    {
     "data": {
      "text/plain": [
       "array([ 8281, 17923,   123, ..., 16188, 23927, 27431])"
      ]
     },
     "execution_count": 42,
     "metadata": {},
     "output_type": "execute_result"
    }
   ],
   "source": [
    "rand_index[0]"
   ]
  },
  {
   "cell_type": "code",
   "execution_count": 43,
   "id": "3fe41806",
   "metadata": {
    "tags": []
   },
   "outputs": [],
   "source": [
    "# Randomizing training sample\n",
    "total_training_indices_rand = []\n",
    "for i in range(500):\n",
    "    total_training_indices_rand.append(total_training_indices[i][rand_index[i]])"
   ]
  },
  {
   "cell_type": "code",
   "execution_count": 44,
   "id": "ad297532",
   "metadata": {
    "tags": []
   },
   "outputs": [],
   "source": [
    "# Randomizing truth of training sample according to the sample\n",
    "total_truth_rand = []\n",
    "for i in range(500):\n",
    "    total_truth_rand.append(total_truth[i][rand_index[i]])"
   ]
  },
  {
   "cell_type": "code",
   "execution_count": 45,
   "id": "89e9f556",
   "metadata": {
    "tags": []
   },
   "outputs": [],
   "source": [
    "total_training_indices_rand = np.array(total_training_indices_rand)"
   ]
  },
  {
   "cell_type": "code",
   "execution_count": 46,
   "id": "a4235190",
   "metadata": {
    "tags": []
   },
   "outputs": [],
   "source": [
    "total_truth_rand = np.array(total_truth_rand)"
   ]
  },
  {
   "cell_type": "code",
   "execution_count": 47,
   "id": "78b31a49",
   "metadata": {
    "tags": []
   },
   "outputs": [
    {
     "data": {
      "text/plain": [
       "array([1, 0, 1, ..., 0, 0, 0])"
      ]
     },
     "execution_count": 47,
     "metadata": {},
     "output_type": "execute_result"
    }
   ],
   "source": [
    "total_truth_rand[0]"
   ]
  },
  {
   "cell_type": "code",
   "execution_count": 48,
   "id": "467e95b2",
   "metadata": {
    "tags": []
   },
   "outputs": [],
   "source": [
    "with h5py.File('./truth_label_train_500evs.hdf5', 'w') as f: \n",
    "    dset = f.create_dataset(\"truth_label_train\", data = total_truth_rand)"
   ]
  },
  {
   "cell_type": "code",
   "execution_count": 49,
   "id": "4baafb44",
   "metadata": {
    "tags": []
   },
   "outputs": [
    {
     "data": {
      "text/plain": [
       "(500, 30000)"
      ]
     },
     "execution_count": 49,
     "metadata": {},
     "output_type": "execute_result"
    }
   ],
   "source": [
    "total_training_indices_rand.shape"
   ]
  },
  {
   "cell_type": "code",
   "execution_count": 32,
   "id": "568e5fcf",
   "metadata": {
    "tags": []
   },
   "outputs": [],
   "source": [
    "hf_neighbor_pairs_unique_sorted= h5py.File(\"./neighbor_pairs_unique_sorted.hdf5\", 'r')\n",
    "neighbor_pairs_unique_sorted = hf_neighbor_pairs_unique_sorted.get(\"neighbor_pair\")[:]\n",
    "hf_neighbor_pairs_unique_sorted.close()"
   ]
  },
  {
   "cell_type": "code",
   "execution_count": 51,
   "id": "9820b81f",
   "metadata": {
    "tags": []
   },
   "outputs": [],
   "source": [
    "# Arranging training edges with training indices\n",
    "total_training_edges_rand = []\n",
    "for i in range(500):\n",
    "    total_training_edges_rand.append(neighbor_pairs_unique_sorted[total_training_indices_rand[i]])"
   ]
  },
  {
   "cell_type": "code",
   "execution_count": 52,
   "id": "1cf57efd",
   "metadata": {
    "tags": []
   },
   "outputs": [],
   "source": [
    "total_training_edges_rand = np.array(total_training_edges_rand)"
   ]
  },
  {
   "cell_type": "code",
   "execution_count": 53,
   "id": "2dee2224",
   "metadata": {
    "tags": []
   },
   "outputs": [
    {
     "data": {
      "text/plain": [
       "(500, 30000, 2)"
      ]
     },
     "execution_count": 53,
     "metadata": {},
     "output_type": "execute_result"
    }
   ],
   "source": [
    "total_training_edges_rand.shape"
   ]
  },
  {
   "cell_type": "code",
   "execution_count": 54,
   "id": "79219b9a",
   "metadata": {
    "tags": []
   },
   "outputs": [],
   "source": [
    "train_edge_source_BD =[]\n",
    "for i in range(500):\n",
    "    _train_edge_source_BD = []\n",
    "    for pair in total_training_edges_rand[i]:\n",
    "        _train_edge_source_BD.append(pair[0])\n",
    "        _train_edge_source_BD.append(pair[1])\n",
    "    train_edge_source_BD.append(_train_edge_source_BD)"
   ]
  },
  {
   "cell_type": "code",
   "execution_count": 55,
   "id": "1b3cf4a1",
   "metadata": {
    "tags": []
   },
   "outputs": [],
   "source": [
    "train_edge_source_BD = np.array(train_edge_source_BD)"
   ]
  },
  {
   "cell_type": "code",
   "execution_count": 56,
   "id": "1acead78",
   "metadata": {
    "tags": []
   },
   "outputs": [
    {
     "data": {
      "text/plain": [
       "(500, 60000)"
      ]
     },
     "execution_count": 56,
     "metadata": {},
     "output_type": "execute_result"
    }
   ],
   "source": [
    "train_edge_source_BD.shape"
   ]
  },
  {
   "cell_type": "code",
   "execution_count": 57,
   "id": "666a8e38",
   "metadata": {
    "tags": []
   },
   "outputs": [],
   "source": [
    "train_edge_dest_BD =[]\n",
    "for i in range(500):\n",
    "    _train_edge_dest_BD = []\n",
    "    for pair in total_training_edges_rand[i]:\n",
    "        _train_edge_dest_BD.append(pair[1])\n",
    "        _train_edge_dest_BD.append(pair[0])\n",
    "    train_edge_dest_BD.append(_train_edge_dest_BD)"
   ]
  },
  {
   "cell_type": "code",
   "execution_count": 58,
   "id": "f95bc6f8",
   "metadata": {
    "tags": []
   },
   "outputs": [],
   "source": [
    "train_edge_dest_BD = np.array(train_edge_dest_BD)"
   ]
  },
  {
   "cell_type": "code",
   "execution_count": 59,
   "id": "332b9a54",
   "metadata": {
    "tags": []
   },
   "outputs": [
    {
     "data": {
      "text/plain": [
       "(500, 60000)"
      ]
     },
     "execution_count": 59,
     "metadata": {},
     "output_type": "execute_result"
    }
   ],
   "source": [
    "train_edge_dest_BD.shape"
   ]
  },
  {
   "cell_type": "code",
   "execution_count": 60,
   "id": "07bd9ab4",
   "metadata": {
    "tags": []
   },
   "outputs": [],
   "source": [
    "train_edge_source_noBD =[]\n",
    "for i in range(500):\n",
    "    _train_edge_source_noBD =[]\n",
    "    for pair in total_training_edges_rand[i]:\n",
    "        _train_edge_source_noBD.append(pair[0])\n",
    "    train_edge_source_noBD.append(_train_edge_source_noBD)\n",
    "\n",
    "train_edge_dest_noBD =[]\n",
    "for i in range(500):\n",
    "    _train_edge_dest_noBD =[]\n",
    "    for pair in total_training_edges_rand[i]:\n",
    "        _train_edge_dest_noBD.append(pair[1])\n",
    "    train_edge_dest_noBD.append(_train_edge_dest_noBD)"
   ]
  },
  {
   "cell_type": "code",
   "execution_count": 61,
   "id": "0e72f449",
   "metadata": {
    "tags": []
   },
   "outputs": [],
   "source": [
    "train_edge_source_noBD = np.array(train_edge_source_noBD)\n",
    "train_edge_dest_noBD = np.array(train_edge_dest_noBD)"
   ]
  },
  {
   "cell_type": "code",
   "execution_count": 62,
   "id": "e184f848",
   "metadata": {
    "tags": []
   },
   "outputs": [
    {
     "data": {
      "text/plain": [
       "(500, 30000)"
      ]
     },
     "execution_count": 62,
     "metadata": {},
     "output_type": "execute_result"
    }
   ],
   "source": [
    "train_edge_source_noBD.shape"
   ]
  },
  {
   "cell_type": "code",
   "execution_count": 63,
   "id": "8750f165",
   "metadata": {
    "tags": []
   },
   "outputs": [
    {
     "data": {
      "text/plain": [
       "(500, 30000)"
      ]
     },
     "execution_count": 63,
     "metadata": {},
     "output_type": "execute_result"
    }
   ],
   "source": [
    "train_edge_dest_noBD.shape"
   ]
  },
  {
   "cell_type": "code",
   "execution_count": 64,
   "id": "35f5f4bc",
   "metadata": {
    "tags": []
   },
   "outputs": [],
   "source": [
    "with h5py.File('./train_edge_source_BD_500evs.hdf5', 'w') as f: \n",
    "    dset = f.create_dataset(\"train_edge_source_BD\", data = train_edge_source_BD)\n",
    "\n",
    "with h5py.File('./train_edge_dest_BD_500evs.hdf5', 'w') as f: \n",
    "    dset = f.create_dataset(\"train_edge_dest_BD\", data = train_edge_dest_BD)\n",
    "    \n",
    "    \n",
    "with h5py.File('./train_edge_source_noBD_500evs.hdf5', 'w') as f: \n",
    "    dset = f.create_dataset(\"train_edge_source_noBD\", data = train_edge_source_noBD)\n",
    "\n",
    "with h5py.File('./train_edge_dest_noBD_500evs.hdf5', 'w') as f: \n",
    "    dset = f.create_dataset(\"train_edge_dest_noBD\", data = train_edge_dest_noBD)"
   ]
  },
  {
   "cell_type": "markdown",
   "id": "375ee2aa-ab23-46a8-bc35-8d4ae10f1491",
   "metadata": {},
   "source": [
    "# Scaling of features"
   ]
  },
  {
   "cell_type": "code",
   "execution_count": 65,
   "id": "fc27685a-f1fa-438c-a03c-36befb60b9ce",
   "metadata": {
    "tags": []
   },
   "outputs": [],
   "source": [
    "keys = list(dynamic_variables.keys())\n",
    "values = list(dynamic_variables.values())"
   ]
  },
  {
   "cell_type": "code",
   "execution_count": 67,
   "id": "4b43e881-2f33-4219-85b4-996b052386c2",
   "metadata": {
    "tags": []
   },
   "outputs": [],
   "source": [
    "rearranged_values = [values[i] for i in sorted_cluster_cluster_len_indices]"
   ]
  },
  {
   "cell_type": "code",
   "execution_count": 68,
   "id": "2e11b853-2e12-4a5d-b58d-905c075f90c7",
   "metadata": {
    "tags": []
   },
   "outputs": [],
   "source": [
    "rearranged_dict = dict(zip(keys, rearranged_values))"
   ]
  },
  {
   "cell_type": "code",
   "execution_count": 69,
   "id": "dd3beeee-1712-424c-a533-343cd4d0478a",
   "metadata": {
    "tags": []
   },
   "outputs": [],
   "source": [
    "data_500 = np.concatenate([value for key, value in list(rearranged_dict.items())[:500]])"
   ]
  },
  {
   "cell_type": "code",
   "execution_count": 70,
   "id": "418ad827-d013-41a9-8506-e77a387d6c3c",
   "metadata": {
    "tags": []
   },
   "outputs": [],
   "source": [
    "data_100 = np.concatenate([value for key, value in list(dynamic_variables.items())[500:]])"
   ]
  },
  {
   "cell_type": "code",
   "execution_count": 71,
   "id": "7d2033d0-5ee1-4406-b5bb-1d5a504ab0c9",
   "metadata": {
    "tags": []
   },
   "outputs": [
    {
     "data": {
      "text/plain": [
       "['./scaler_neighbor_data_500_sorted.save']"
      ]
     },
     "execution_count": 71,
     "metadata": {},
     "output_type": "execute_result"
    }
   ],
   "source": [
    "scaler = MinMaxScaler()\n",
    "cellFeatures_trainS = scaler.fit_transform(data_500)\n",
    "scaler_filename = \"./scaler_neighbor_data_500_sorted.save\"\n",
    "joblib.dump(scaler, scaler_filename)"
   ]
  },
  {
   "cell_type": "code",
   "execution_count": 72,
   "id": "e1258cca-9184-45ed-b905-1bd61fa96632",
   "metadata": {
    "tags": []
   },
   "outputs": [
    {
     "data": {
      "text/plain": [
       "array([0.58421445, 0.51289224, 0.16380877, 0.23466876, 0.52418755,\n",
       "       0.26086957, 0.09700815, 0.15288134])"
      ]
     },
     "execution_count": 72,
     "metadata": {},
     "output_type": "execute_result"
    }
   ],
   "source": [
    "cellFeatures_trainS[1]"
   ]
  },
  {
   "cell_type": "code",
   "execution_count": 73,
   "id": "e9cd0ff9-88e9-4425-91a6-3c21d19ca841",
   "metadata": {
    "tags": []
   },
   "outputs": [],
   "source": [
    "cellFeatures_trainS_reshape = cellFeatures_trainS.reshape(500, 187652, 8)"
   ]
  },
  {
   "cell_type": "code",
   "execution_count": 74,
   "id": "6d1dd5e0-256e-4faf-9776-e62ac26a5422",
   "metadata": {
    "tags": []
   },
   "outputs": [],
   "source": [
    "scaler = joblib.load('./scaler_neighbor_data_500_sorted.save') \n",
    "cellFeatures_testS = scaler.transform(data_100)"
   ]
  },
  {
   "cell_type": "code",
   "execution_count": 75,
   "id": "ac254b2e-a0e3-4f43-a216-d0d45485f6fb",
   "metadata": {
    "tags": []
   },
   "outputs": [],
   "source": [
    "cellFeatures_testS_reshape = cellFeatures_testS.reshape(100, 187652, 8)"
   ]
  },
  {
   "cell_type": "code",
   "execution_count": 76,
   "id": "7776ef70",
   "metadata": {
    "tags": []
   },
   "outputs": [],
   "source": [
    "# creating Scaled Cell Feature file\n",
    "with h5py.File('./cellFeaturesScaled_train_500evs.hdf5', 'w') as f: \n",
    "    dset = f.create_dataset(\"cellFeatures_trainS\", data = cellFeatures_trainS_reshape)"
   ]
  },
  {
   "cell_type": "code",
   "execution_count": 77,
   "id": "eeaade9b",
   "metadata": {
    "tags": []
   },
   "outputs": [],
   "source": [
    "with h5py.File('./cellFeaturesScaled_test_100evs.hdf5', 'w') as f: \n",
    "    dset = f.create_dataset(\"cellFeatures_testS\", data = cellFeatures_testS_reshape)"
   ]
  },
  {
   "cell_type": "markdown",
   "id": "dab58f33-8670-4510-b164-7eb7a6c3d45b",
   "metadata": {},
   "source": [
    "### for test sample"
   ]
  },
  {
   "cell_type": "code",
   "execution_count": 23,
   "id": "5cd0e0cd-8438-4d80-a94f-cc151ad56ae0",
   "metadata": {
    "tags": []
   },
   "outputs": [],
   "source": [
    "true_len_sorted_100 = true_len_sorted[500:]\n",
    "bkg_lone_len_sorted_100 = bkg_lone_len_sorted[500:]\n",
    "bkg_cluster_lone_len_sorted_100 = bkg_cluster_lone_len_sorted[500:]\n",
    "bkg_cluster_cluster_len_sorted_100 = bkg_cluster_cluster_len_sorted[500:]"
   ]
  },
  {
   "cell_type": "code",
   "execution_count": 24,
   "id": "67696c8a-e3db-4dea-80ff-bb9785f8d502",
   "metadata": {
    "tags": []
   },
   "outputs": [
    {
     "data": {
      "text/plain": [
       "9692"
      ]
     },
     "execution_count": 24,
     "metadata": {},
     "output_type": "execute_result"
    }
   ],
   "source": [
    "min(true_len_sorted_100)"
   ]
  },
  {
   "cell_type": "code",
   "execution_count": 25,
   "id": "3c85b1d4-9fc9-4145-8e3c-9ff7b5a7466d",
   "metadata": {
    "tags": []
   },
   "outputs": [
    {
     "data": {
      "text/plain": [
       "1156244"
      ]
     },
     "execution_count": 25,
     "metadata": {},
     "output_type": "execute_result"
    }
   ],
   "source": [
    "min(bkg_lone_len_sorted_100)"
   ]
  },
  {
   "cell_type": "code",
   "execution_count": 26,
   "id": "540a4cfa-2aac-4948-8aac-4b5e6d2a1c41",
   "metadata": {
    "tags": []
   },
   "outputs": [
    {
     "data": {
      "text/plain": [
       "17994"
      ]
     },
     "execution_count": 26,
     "metadata": {},
     "output_type": "execute_result"
    }
   ],
   "source": [
    "min(bkg_cluster_lone_len_sorted_100)"
   ]
  },
  {
   "cell_type": "code",
   "execution_count": 27,
   "id": "fcd31a77-6137-4025-b7c2-c5bb667d2667",
   "metadata": {
    "tags": []
   },
   "outputs": [
    {
     "data": {
      "text/plain": [
       "651"
      ]
     },
     "execution_count": 27,
     "metadata": {},
     "output_type": "execute_result"
    }
   ],
   "source": [
    "min(bkg_cluster_cluster_len_sorted_100)"
   ]
  },
  {
   "cell_type": "code",
   "execution_count": 29,
   "id": "a2e0be6a-efd3-477b-8226-3e4e647948ca",
   "metadata": {
    "tags": []
   },
   "outputs": [],
   "source": [
    "true_9k = [random.sample(row, 9000) for row in true_sorted_100]\n",
    "bkg_lone_30k = [random.sample(row, 30000) for row in bkg_lone_sorted_100]\n",
    "bkg_cluster_lone_17k = [random.sample(row, 17000) for row in bkg_cluster_lone_sorted_100]\n",
    "bkg_cluster_cluster_600 = [random.sample(row, 600) for row in bkg_cluster_cluster_sorted_100]"
   ]
  },
  {
   "cell_type": "code",
   "execution_count": 33,
   "id": "9010a67e-d7da-43b3-9671-b7fcedeba170",
   "metadata": {
    "tags": []
   },
   "outputs": [],
   "source": [
    "true_test_edges = []\n",
    "bkg_lone_test_edges = []\n",
    "bkg_cluster_lone_test_edges = []\n",
    "bkg_cluster_cluster_test_edges = []\n",
    "\n",
    "for i in range(100):\n",
    "    true_test_edges.append(neighbor_pairs_unique_sorted[true_9k[i]])\n",
    "    bkg_lone_test_edges.append(neighbor_pairs_unique_sorted[bkg_lone_30k[i]])\n",
    "    bkg_cluster_lone_test_edges.append(neighbor_pairs_unique_sorted[bkg_cluster_lone_17k[i]])\n",
    "    bkg_cluster_cluster_test_edges.append(neighbor_pairs_unique_sorted[bkg_cluster_cluster_600[i]])"
   ]
  },
  {
   "cell_type": "code",
   "execution_count": 34,
   "id": "24a5058f-1496-4896-b0a1-f0d367a306d3",
   "metadata": {
    "tags": []
   },
   "outputs": [],
   "source": [
    "true_test_edges = np.array(true_test_edges)"
   ]
  },
  {
   "cell_type": "code",
   "execution_count": 35,
   "id": "3baa8439-6e57-443e-ab09-4c5a57926235",
   "metadata": {
    "tags": []
   },
   "outputs": [
    {
     "data": {
      "text/plain": [
       "(100, 9000, 2)"
      ]
     },
     "execution_count": 35,
     "metadata": {},
     "output_type": "execute_result"
    }
   ],
   "source": [
    "true_test_edges.shape"
   ]
  },
  {
   "cell_type": "code",
   "execution_count": 36,
   "id": "7dc9ffce-8b92-4127-ae39-5b2e0acb2bef",
   "metadata": {
    "tags": []
   },
   "outputs": [],
   "source": [
    "test_edge_source_true_BD =[]\n",
    "for i in range(100):\n",
    "    _test_edge_source_BD = []\n",
    "    for pair in true_test_edges[i]:\n",
    "        _test_edge_source_BD.append(pair[0])\n",
    "        _test_edge_source_BD.append(pair[1])\n",
    "    test_edge_source_true_BD.append(_test_edge_source_BD)"
   ]
  },
  {
   "cell_type": "code",
   "execution_count": 37,
   "id": "95215419-a398-4d21-8fc2-21bd19196a9b",
   "metadata": {
    "tags": []
   },
   "outputs": [],
   "source": [
    "test_edge_dest_true_BD =[]\n",
    "for i in range(100):\n",
    "    _test_edge_dest_BD = []\n",
    "    for pair in true_test_edges[i]:\n",
    "        _test_edge_dest_BD.append(pair[1])\n",
    "        _test_edge_dest_BD.append(pair[0])\n",
    "    test_edge_dest_true_BD.append(_test_edge_dest_BD)"
   ]
  },
  {
   "cell_type": "code",
   "execution_count": 38,
   "id": "f0976724-1114-456f-b094-bab9a6c3be76",
   "metadata": {
    "tags": []
   },
   "outputs": [],
   "source": [
    "test_edge_source_bkg_lone_BD =[]\n",
    "for i in range(100):\n",
    "    _test_edge_source_BD = []\n",
    "    for pair in bkg_lone_test_edges[i]:\n",
    "        _test_edge_source_BD.append(pair[0])\n",
    "        _test_edge_source_BD.append(pair[1])\n",
    "    test_edge_source_bkg_lone_BD.append(_test_edge_source_BD)"
   ]
  },
  {
   "cell_type": "code",
   "execution_count": 39,
   "id": "fe6c7514-c253-4235-ba5c-486277e704d7",
   "metadata": {
    "tags": []
   },
   "outputs": [],
   "source": [
    "test_edge_dest_bkg_lone_BD =[]\n",
    "for i in range(100):\n",
    "    _test_edge_dest_BD = []\n",
    "    for pair in bkg_lone_test_edges[i]:\n",
    "        _test_edge_dest_BD.append(pair[1])\n",
    "        _test_edge_dest_BD.append(pair[0])\n",
    "    test_edge_dest_bkg_lone_BD.append(_test_edge_dest_BD)"
   ]
  },
  {
   "cell_type": "code",
   "execution_count": 40,
   "id": "53dd9ea8-f7aa-4558-b898-f97088c3f777",
   "metadata": {
    "tags": []
   },
   "outputs": [],
   "source": [
    "test_edge_source_bkg_cluster_lone_BD =[]\n",
    "for i in range(100):\n",
    "    _test_edge_source_BD = []\n",
    "    for pair in bkg_cluster_lone_test_edges[i]:\n",
    "        _test_edge_source_BD.append(pair[0])\n",
    "        _test_edge_source_BD.append(pair[1])\n",
    "    test_edge_source_bkg_cluster_lone_BD.append(_test_edge_source_BD)"
   ]
  },
  {
   "cell_type": "code",
   "execution_count": 41,
   "id": "9458b459-ad5d-48e1-a7ff-eecb84b4e089",
   "metadata": {
    "tags": []
   },
   "outputs": [],
   "source": [
    "test_edge_dest_bkg_cluster_lone_BD =[]\n",
    "for i in range(100):\n",
    "    _test_edge_dest_BD = []\n",
    "    for pair in bkg_cluster_lone_test_edges[i]:\n",
    "        _test_edge_dest_BD.append(pair[1])\n",
    "        _test_edge_dest_BD.append(pair[0])\n",
    "    test_edge_dest_bkg_cluster_lone_BD.append(_test_edge_dest_BD)"
   ]
  },
  {
   "cell_type": "code",
   "execution_count": 42,
   "id": "83cd6599-7359-40f1-92d9-a74594da770f",
   "metadata": {
    "tags": []
   },
   "outputs": [],
   "source": [
    "test_edge_source_bkg_cluster_cluster_BD =[]\n",
    "for i in range(100):\n",
    "    _test_edge_source_BD = []\n",
    "    for pair in bkg_cluster_cluster_test_edges[i]:\n",
    "        _test_edge_source_BD.append(pair[0])\n",
    "        _test_edge_source_BD.append(pair[1])\n",
    "    test_edge_source_bkg_cluster_cluster_BD.append(_test_edge_source_BD)"
   ]
  },
  {
   "cell_type": "code",
   "execution_count": 43,
   "id": "afb62628-bbec-473c-aeff-9e60f545bc44",
   "metadata": {
    "tags": []
   },
   "outputs": [],
   "source": [
    "test_edge_dest_bkg_cluster_cluster_BD =[]\n",
    "for i in range(100):\n",
    "    _test_edge_dest_BD = []\n",
    "    for pair in bkg_cluster_cluster_test_edges[i]:\n",
    "        _test_edge_dest_BD.append(pair[1])\n",
    "        _test_edge_dest_BD.append(pair[0])\n",
    "    test_edge_dest_bkg_cluster_cluster_BD.append(_test_edge_dest_BD)"
   ]
  },
  {
   "cell_type": "code",
   "execution_count": 44,
   "id": "769ca10d-2dee-440f-a2a0-cd8f202403c7",
   "metadata": {
    "tags": []
   },
   "outputs": [],
   "source": [
    "test_edge_source_true_noBD =[]\n",
    "for i in range(100):\n",
    "    _test_edge_source_noBD =[]\n",
    "    for pair in true_test_edges[i]:\n",
    "        _test_edge_source_noBD.append(pair[0])\n",
    "    test_edge_source_true_noBD.append(_test_edge_source_noBD)\n",
    "\n",
    "test_edge_dest_true_noBD =[]\n",
    "for i in range(100):\n",
    "    _test_edge_dest_noBD =[]\n",
    "    for pair in true_test_edges[i]:\n",
    "        _test_edge_dest_noBD.append(pair[1])\n",
    "    test_edge_dest_true_noBD.append(_test_edge_dest_noBD)"
   ]
  },
  {
   "cell_type": "code",
   "execution_count": 45,
   "id": "0fa022dc-e989-4162-a030-e0c6f7c6c9da",
   "metadata": {
    "tags": []
   },
   "outputs": [],
   "source": [
    "test_edge_source_bkg_lone_noBD =[]\n",
    "for i in range(100):\n",
    "    _test_edge_source_noBD =[]\n",
    "    for pair in bkg_lone_test_edges[i]:\n",
    "        _test_edge_source_noBD.append(pair[0])\n",
    "    test_edge_source_bkg_lone_noBD.append(_test_edge_source_noBD)\n",
    "\n",
    "test_edge_dest_bkg_lone_noBD =[]\n",
    "for i in range(100):\n",
    "    _test_edge_dest_noBD =[]\n",
    "    for pair in bkg_lone_test_edges[i]:\n",
    "        _test_edge_dest_noBD.append(pair[1])\n",
    "    test_edge_dest_bkg_lone_noBD.append(_test_edge_dest_noBD)"
   ]
  },
  {
   "cell_type": "code",
   "execution_count": 46,
   "id": "f9adfe00-18c2-429e-89df-2a2b500f0759",
   "metadata": {
    "tags": []
   },
   "outputs": [],
   "source": [
    "test_edge_source_bkg_cluster_lone_noBD =[]\n",
    "for i in range(100):\n",
    "    _test_edge_source_noBD =[]\n",
    "    for pair in bkg_cluster_lone_test_edges[i]:\n",
    "        _test_edge_source_noBD.append(pair[0])\n",
    "    test_edge_source_bkg_cluster_lone_noBD.append(_test_edge_source_noBD)\n",
    "\n",
    "test_edge_dest_bkg_cluster_lone_noBD =[]\n",
    "for i in range(100):\n",
    "    _test_edge_dest_noBD =[]\n",
    "    for pair in bkg_cluster_lone_test_edges[i]:\n",
    "        _test_edge_dest_noBD.append(pair[1])\n",
    "    test_edge_dest_bkg_cluster_lone_noBD.append(_test_edge_dest_noBD)"
   ]
  },
  {
   "cell_type": "code",
   "execution_count": 47,
   "id": "6a065d31-336b-4b2a-aedd-a133e7b514fb",
   "metadata": {
    "tags": []
   },
   "outputs": [],
   "source": [
    "test_edge_source_bkg_cluster_cluster_noBD =[]\n",
    "for i in range(100):\n",
    "    _test_edge_source_noBD =[]\n",
    "    for pair in bkg_cluster_cluster_test_edges[i]:\n",
    "        _test_edge_source_noBD.append(pair[0])\n",
    "    test_edge_source_bkg_cluster_cluster_noBD.append(_test_edge_source_noBD)\n",
    "\n",
    "test_edge_dest_bkg_cluster_cluster_noBD =[]\n",
    "for i in range(100):\n",
    "    _test_edge_dest_noBD =[]\n",
    "    for pair in bkg_cluster_cluster_test_edges[i]:\n",
    "        _test_edge_dest_noBD.append(pair[1])\n",
    "    test_edge_dest_bkg_cluster_cluster_noBD.append(_test_edge_dest_noBD)"
   ]
  },
  {
   "cell_type": "code",
   "execution_count": 48,
   "id": "1994db95-8c47-4b18-ae6e-050566f2f102",
   "metadata": {
    "tags": []
   },
   "outputs": [],
   "source": [
    "with h5py.File('./test_edge_source_true_BD.hdf5', 'w') as f: \n",
    "    dset = f.create_dataset(\"test_edge_source_true_BD\", data = test_edge_source_true_BD)\n",
    "\n",
    "with h5py.File('./test_edge_dest_true_BD.hdf5', 'w') as f: \n",
    "    dset = f.create_dataset(\"test_edge_dest_true_BD\", data = test_edge_dest_true_BD)\n",
    "    \n",
    "    \n",
    "with h5py.File('./test_edge_source_true_noBD.hdf5', 'w') as f: \n",
    "    dset = f.create_dataset(\"test_edge_source_true_noBD\", data = test_edge_source_true_noBD)\n",
    "\n",
    "with h5py.File('./test_edge_dest_true_noBD.hdf5', 'w') as f: \n",
    "    dset = f.create_dataset(\"test_edge_dest_true_noBD\", data = test_edge_dest_true_noBD)"
   ]
  },
  {
   "cell_type": "code",
   "execution_count": 49,
   "id": "d0122364-0b48-4339-98b7-7696c0bbfa6c",
   "metadata": {
    "tags": []
   },
   "outputs": [],
   "source": [
    "with h5py.File('./test_edge_source_bkg_lone_BD.hdf5', 'w') as f: \n",
    "    dset = f.create_dataset(\"test_edge_source_bkg_lone_BD\", data = test_edge_source_bkg_lone_BD)\n",
    "\n",
    "with h5py.File('./test_edge_dest_bkg_lone_BD.hdf5', 'w') as f: \n",
    "    dset = f.create_dataset(\"test_edge_dest_bkg_lone_BD\", data = test_edge_dest_bkg_lone_BD)\n",
    "    \n",
    "    \n",
    "with h5py.File('./test_edge_source_bkg_lone_noBD.hdf5', 'w') as f: \n",
    "    dset = f.create_dataset(\"test_edge_source_bkg_lone_noBD\", data = test_edge_source_bkg_lone_noBD)\n",
    "\n",
    "with h5py.File('./test_edge_dest_bkg_lone_noBD.hdf5', 'w') as f: \n",
    "    dset = f.create_dataset(\"test_edge_dest_bkg_lone_noBD\", data = test_edge_dest_bkg_lone_noBD)"
   ]
  },
  {
   "cell_type": "code",
   "execution_count": 50,
   "id": "91a0958f-c4ff-4ec8-b3d6-04f55323c89d",
   "metadata": {
    "tags": []
   },
   "outputs": [],
   "source": [
    "with h5py.File('./test_edge_source_bkg_cluster_lone_BD.hdf5', 'w') as f: \n",
    "    dset = f.create_dataset(\"test_edge_source_bkg_cluster_lone_BD\", data = test_edge_source_bkg_cluster_lone_BD)\n",
    "\n",
    "with h5py.File('./test_edge_dest_bkg_cluster_lone_BD.hdf5', 'w') as f: \n",
    "    dset = f.create_dataset(\"test_edge_dest_bkg_cluster_lone_BD\", data = test_edge_dest_bkg_cluster_lone_BD)\n",
    "    \n",
    "    \n",
    "with h5py.File('./test_edge_source_bkg_cluster_lone_noBD.hdf5', 'w') as f: \n",
    "    dset = f.create_dataset(\"test_edge_source_bkg_cluster_lone_noBD\", data = test_edge_source_bkg_cluster_lone_noBD)\n",
    "\n",
    "with h5py.File('./test_edge_dest_bkg_cluster_lone_noBD.hdf5', 'w') as f: \n",
    "    dset = f.create_dataset(\"test_edge_dest_bkg_cluster_lone_noBD\", data = test_edge_dest_bkg_cluster_lone_noBD)"
   ]
  },
  {
   "cell_type": "code",
   "execution_count": 51,
   "id": "0ab89922-301c-4a05-ba78-395ad2f0174c",
   "metadata": {
    "tags": []
   },
   "outputs": [],
   "source": [
    "with h5py.File('./test_edge_source_bkg_cluster_cluster_BD.hdf5', 'w') as f: \n",
    "    dset = f.create_dataset(\"test_edge_source_bkg_cluster_cluster_BD\", data = test_edge_source_bkg_cluster_cluster_BD)\n",
    "\n",
    "with h5py.File('./test_edge_dest_bkg_cluster_cluster_BD.hdf5', 'w') as f: \n",
    "    dset = f.create_dataset(\"test_edge_dest_bkg_cluster_cluster_BD\", data = test_edge_dest_bkg_cluster_cluster_BD)\n",
    "    \n",
    "    \n",
    "with h5py.File('./test_edge_source_bkg_cluster_cluster_noBD.hdf5', 'w') as f: \n",
    "    dset = f.create_dataset(\"test_edge_source_bkg_cluster_cluster_noBD\", data = test_edge_source_bkg_cluster_cluster_noBD)\n",
    "\n",
    "with h5py.File('./test_edge_dest_bkg_cluster_cluster_noBD.hdf5', 'w') as f: \n",
    "    dset = f.create_dataset(\"test_edge_dest_bkg_cluster_cluster_noBD\", data = test_edge_dest_bkg_cluster_cluster_noBD)"
   ]
  },
  {
   "cell_type": "code",
   "execution_count": null,
   "id": "d8b4de25-86b2-4b5c-9f51-49a2ee5faf0b",
   "metadata": {},
   "outputs": [],
   "source": []
  }
 ],
 "metadata": {
  "kernelspec": {
   "display_name": "my_env",
   "language": "python",
   "name": "my_env"
  },
  "language_info": {
   "codemirror_mode": {
    "name": "ipython",
    "version": 3
   },
   "file_extension": ".py",
   "mimetype": "text/x-python",
   "name": "python",
   "nbconvert_exporter": "python",
   "pygments_lexer": "ipython3",
   "version": "3.8.6"
  }
 },
 "nbformat": 4,
 "nbformat_minor": 5
}
