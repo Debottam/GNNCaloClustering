{
 "cells": [
  {
   "cell_type": "markdown",
   "id": "127c0d5c",
   "metadata": {},
   "source": [
    "## Required Packages"
   ]
  },
  {
   "cell_type": "code",
   "execution_count": 113,
   "id": "9210fe68",
   "metadata": {
    "tags": []
   },
   "outputs": [],
   "source": [
    "#import uproot\n",
    "import numpy as np\n",
    "import networkx as nx\n",
    "import matplotlib.pyplot as plt\n",
    "from scipy.spatial.distance import cdist\n",
    "from sklearn.model_selection import cross_val_score, cross_val_predict, train_test_split\n",
    "from collections import namedtuple, defaultdict\n",
    "#import open3d as o3d\n",
    "import random\n",
    "random.seed(42)\n",
    "import h5py\n",
    "import torch\n",
    "import torch.nn as nn\n",
    "import torch.optim as optim\n",
    "from torch.utils.data import DataLoader, Dataset\n",
    "from torch_geometric.data import Data\n",
    "from torch_geometric.nn import GCNConv\n",
    "from torch_geometric.utils import add_self_loops\n",
    "from torch_geometric.transforms import ToUndirected\n",
    "from torchvision import transforms\n",
    "from sklearn.preprocessing import StandardScaler, MinMaxScaler\n",
    "import joblib\n",
    "from torch.nn import BatchNorm1d"
   ]
  },
  {
   "cell_type": "markdown",
   "id": "b36d11e3",
   "metadata": {},
   "source": [
    "## Loading Test Data "
   ]
  },
  {
   "cell_type": "code",
   "execution_count": 3,
   "id": "36b6d604-4255-431a-8f05-e8c807894cef",
   "metadata": {
    "tags": []
   },
   "outputs": [],
   "source": [
    "hf_cellFeaturesScaled_neighbor= h5py.File(\"./cellFeaturesScaled_test_100evs.hdf5\", 'r')\n",
    "\n",
    "hf_test_edge_source_true_BD = h5py.File(\"./test_edge_source_true_BD.hdf5\", 'r')\n",
    "hf_test_edge_dest_true_BD = h5py.File(\"./test_edge_dest_true_BD.hdf5\", 'r')\n",
    "hf_test_edge_source_true_noBD = h5py.File(\"./test_edge_source_true_noBD.hdf5\", 'r')\n",
    "hf_test_edge_dest_true_noBD = h5py.File(\"./test_edge_dest_true_noBD.hdf5\", 'r')\n",
    "\n",
    "hf_test_edge_source_bkg_lone_BD = h5py.File(\"./test_edge_source_bkg_lone_BD.hdf5\", 'r')\n",
    "hf_test_edge_dest_bkg_lone_BD = h5py.File(\"./test_edge_dest_bkg_lone_BD.hdf5\", 'r')\n",
    "hf_test_edge_source_bkg_lone_noBD = h5py.File(\"./test_edge_source_bkg_lone_noBD.hdf5\", 'r')\n",
    "hf_test_edge_dest_bkg_lone_noBD = h5py.File(\"./test_edge_dest_bkg_lone_noBD.hdf5\", 'r')\n",
    "\n",
    "hf_test_edge_source_bkg_cluster_lone_BD = h5py.File(\"./test_edge_source_bkg_cluster_lone_BD.hdf5\", 'r')\n",
    "hf_test_edge_dest_bkg_cluster_lone_BD = h5py.File(\"./test_edge_dest_bkg_cluster_lone_BD.hdf5\", 'r')\n",
    "hf_test_edge_source_bkg_cluster_lone_noBD = h5py.File(\"./test_edge_source_bkg_cluster_lone_noBD.hdf5\", 'r')\n",
    "hf_test_edge_dest_bkg_cluster_lone_noBD = h5py.File(\"./test_edge_dest_bkg_cluster_lone_noBD.hdf5\", 'r')\n",
    "\n",
    "hf_test_edge_source_bkg_cluster_cluster_BD = h5py.File(\"./test_edge_source_bkg_cluster_cluster_BD.hdf5\", 'r')\n",
    "hf_test_edge_dest_bkg_cluster_cluster_BD = h5py.File(\"./test_edge_dest_bkg_cluster_cluster_BD.hdf5\", 'r')\n",
    "hf_test_edge_source_bkg_cluster_cluster_noBD = h5py.File(\"./test_edge_source_bkg_cluster_cluster_noBD.hdf5\", 'r')\n",
    "hf_test_edge_dest_bkg_cluster_cluster_noBD = h5py.File(\"./test_edge_dest_bkg_cluster_cluster_noBD.hdf5\", 'r')"
   ]
  },
  {
   "cell_type": "code",
   "execution_count": 4,
   "id": "467b27b6-a9f6-4d88-901f-49c90b8bf087",
   "metadata": {
    "tags": []
   },
   "outputs": [],
   "source": [
    "cellFeaturesScaled = hf_cellFeaturesScaled_neighbor.get(\"cellFeatures_testS\")[:]\n",
    "\n",
    "test_edge_source_true_BD = hf_test_edge_source_true_BD.get(\"test_edge_source_true_BD\")[:]\n",
    "test_edge_dest_true_BD = hf_test_edge_dest_true_BD.get(\"test_edge_dest_true_BD\")[:]\n",
    "test_edge_source_true_noBD = hf_test_edge_source_true_noBD.get(\"test_edge_source_true_noBD\")[:]\n",
    "test_edge_dest_true_noBD = hf_test_edge_dest_true_noBD.get(\"test_edge_dest_true_noBD\")[:]\n",
    "\n",
    "test_edge_source_bkg_lone_BD = hf_test_edge_source_bkg_lone_BD.get(\"test_edge_source_bkg_lone_BD\")[:]\n",
    "test_edge_dest_bkg_lone_BD = hf_test_edge_dest_bkg_lone_BD.get(\"test_edge_dest_bkg_lone_BD\")[:]\n",
    "test_edge_source_bkg_lone_noBD = hf_test_edge_source_bkg_lone_noBD.get(\"test_edge_source_bkg_lone_noBD\")[:]\n",
    "test_edge_dest_bkg_lone_noBD = hf_test_edge_dest_bkg_lone_noBD.get(\"test_edge_dest_bkg_lone_noBD\")[:]\n",
    "\n",
    "test_edge_source_bkg_lone_BD = hf_test_edge_source_bkg_lone_BD.get(\"test_edge_source_bkg_lone_BD\")[:]\n",
    "test_edge_dest_bkg_lone_BD = hf_test_edge_dest_bkg_lone_BD.get(\"test_edge_dest_bkg_lone_BD\")[:]\n",
    "test_edge_source_bkg_lone_noBD = hf_test_edge_source_bkg_lone_noBD.get(\"test_edge_source_bkg_lone_noBD\")[:]\n",
    "test_edge_dest_bkg_lone_noBD = hf_test_edge_dest_bkg_lone_noBD.get(\"test_edge_dest_bkg_lone_noBD\")[:]\n",
    "\n",
    "test_edge_source_bkg_cluster_lone_BD = hf_test_edge_source_bkg_cluster_lone_BD.get(\"test_edge_source_bkg_cluster_lone_BD\")[:]\n",
    "test_edge_dest_bkg_cluster_lone_BD = hf_test_edge_dest_bkg_cluster_lone_BD.get(\"test_edge_dest_bkg_cluster_lone_BD\")[:]\n",
    "test_edge_source_bkg_cluster_lone_noBD = hf_test_edge_source_bkg_cluster_lone_noBD.get(\"test_edge_source_bkg_cluster_lone_noBD\")[:]\n",
    "test_edge_dest_bkg_cluster_lone_noBD = hf_test_edge_dest_bkg_cluster_lone_noBD.get(\"test_edge_dest_bkg_cluster_lone_noBD\")[:]\n",
    "\n",
    "test_edge_source_bkg_cluster_cluster_BD = hf_test_edge_source_bkg_cluster_cluster_BD.get(\"test_edge_source_bkg_cluster_cluster_BD\")[:]\n",
    "test_edge_dest_bkg_cluster_cluster_BD = hf_test_edge_dest_bkg_cluster_cluster_BD.get(\"test_edge_dest_bkg_cluster_cluster_BD\")[:]\n",
    "test_edge_source_bkg_cluster_cluster_noBD = hf_test_edge_source_bkg_cluster_cluster_noBD.get(\"test_edge_source_bkg_cluster_cluster_noBD\")[:]\n",
    "test_edge_dest_bkg_cluster_cluster_noBD = hf_test_edge_dest_bkg_cluster_cluster_noBD.get(\"test_edge_dest_bkg_cluster_cluster_noBD\")[:]\n"
   ]
  },
  {
   "cell_type": "code",
   "execution_count": 5,
   "id": "e992db71-0276-4c58-8434-1821c4c2928c",
   "metadata": {
    "tags": []
   },
   "outputs": [],
   "source": [
    "hf_cellFeaturesScaled_neighbor.close()\n",
    "\n",
    "hf_test_edge_source_true_BD.close()\n",
    "hf_test_edge_dest_true_BD.close()\n",
    "hf_test_edge_source_true_noBD.close()\n",
    "hf_test_edge_dest_true_noBD.close()\n",
    "\n",
    "hf_test_edge_source_bkg_lone_BD.close()\n",
    "hf_test_edge_dest_bkg_lone_BD.close()\n",
    "hf_test_edge_source_bkg_lone_noBD.close()\n",
    "hf_test_edge_dest_bkg_lone_noBD.close()\n",
    "\n",
    "hf_test_edge_source_bkg_cluster_lone_BD.close()\n",
    "hf_test_edge_dest_bkg_cluster_lone_BD.close()\n",
    "hf_test_edge_source_bkg_cluster_lone_noBD.close()\n",
    "hf_test_edge_dest_bkg_cluster_lone_noBD.close()\n",
    "\n",
    "hf_test_edge_source_bkg_cluster_cluster_BD.close()\n",
    "hf_test_edge_dest_bkg_cluster_cluster_BD.close()\n",
    "hf_test_edge_source_bkg_cluster_cluster_noBD.close()\n",
    "hf_test_edge_dest_bkg_cluster_cluster_noBD.close()"
   ]
  },
  {
   "cell_type": "code",
   "execution_count": 6,
   "id": "f16af783",
   "metadata": {
    "tags": []
   },
   "outputs": [
    {
     "data": {
      "text/plain": [
       "(100, 187652, 8)"
      ]
     },
     "execution_count": 6,
     "metadata": {},
     "output_type": "execute_result"
    }
   ],
   "source": [
    "cellFeaturesScaled.shape"
   ]
  },
  {
   "cell_type": "code",
   "execution_count": 7,
   "id": "85fc1d7c",
   "metadata": {
    "tags": []
   },
   "outputs": [],
   "source": [
    "x = torch.tensor(cellFeaturesScaled, dtype=torch.float)"
   ]
  },
  {
   "cell_type": "code",
   "execution_count": 8,
   "id": "eb6ebe83",
   "metadata": {
    "tags": []
   },
   "outputs": [
    {
     "data": {
      "text/plain": [
       "torch.Size([187652, 8])"
      ]
     },
     "execution_count": 8,
     "metadata": {},
     "output_type": "execute_result"
    }
   ],
   "source": [
    "x[0].shape"
   ]
  },
  {
   "cell_type": "markdown",
   "id": "96723ec5",
   "metadata": {},
   "source": [
    "## Preparing Bidirectional and Unidirectional edges for inference"
   ]
  },
  {
   "cell_type": "code",
   "execution_count": 9,
   "id": "01019aac-589d-4237-a4f2-673379f4796a",
   "metadata": {
    "tags": []
   },
   "outputs": [
    {
     "name": "stderr",
     "output_type": "stream",
     "text": [
      "/tmp/ipykernel_559685/3383178367.py:1: UserWarning: Creating a tensor from a list of numpy.ndarrays is extremely slow. Please consider converting the list to a single numpy.ndarray with numpy.array() before converting to a tensor. (Triggered internally at /pscratch/sd/s/swowner/pytorch-build/pytorch/2.0.1/pytorch/torch/csrc/utils/tensor_new.cpp:245.)\n",
      "  edge_index_true = torch.tensor([test_edge_source_true_BD, test_edge_dest_true_BD], dtype=torch.long)\n"
     ]
    }
   ],
   "source": [
    "edge_index_true = torch.tensor([test_edge_source_true_BD, test_edge_dest_true_BD], dtype=torch.long)\n",
    "edge_index_bkg_lone = torch.tensor([test_edge_source_bkg_lone_BD, test_edge_dest_bkg_lone_BD], dtype=torch.long)\n",
    "edge_index_bkg_cluster_lone = torch.tensor([test_edge_source_bkg_cluster_lone_BD, test_edge_dest_bkg_cluster_lone_BD], dtype=torch.long)\n",
    "edge_index_bkg_cluster_cluster = torch.tensor([test_edge_source_bkg_cluster_cluster_BD, test_edge_dest_bkg_cluster_cluster_BD], dtype=torch.long)"
   ]
  },
  {
   "cell_type": "code",
   "execution_count": 10,
   "id": "78761a14",
   "metadata": {
    "tags": []
   },
   "outputs": [
    {
     "data": {
      "text/plain": [
       "torch.Size([2, 100, 18000])"
      ]
     },
     "execution_count": 10,
     "metadata": {},
     "output_type": "execute_result"
    }
   ],
   "source": [
    "edge_index_true.shape"
   ]
  },
  {
   "cell_type": "code",
   "execution_count": 11,
   "id": "0a4873a1",
   "metadata": {
    "tags": []
   },
   "outputs": [],
   "source": [
    "edge_index_true_ch = edge_index_true.permute(1, 0, 2)\n",
    "edge_index_bkg_lone_ch = edge_index_bkg_lone.permute(1, 0, 2)\n",
    "edge_index_bkg_cluster_lone_ch = edge_index_bkg_cluster_lone.permute(1, 0, 2)\n",
    "edge_index_bkg_cluster_cluster_ch = edge_index_bkg_cluster_cluster.permute(1, 0, 2)"
   ]
  },
  {
   "cell_type": "code",
   "execution_count": 12,
   "id": "dc56578f",
   "metadata": {
    "tags": []
   },
   "outputs": [
    {
     "data": {
      "text/plain": [
       "torch.Size([100, 2, 18000])"
      ]
     },
     "execution_count": 12,
     "metadata": {},
     "output_type": "execute_result"
    }
   ],
   "source": [
    "edge_index_true_ch.shape"
   ]
  },
  {
   "cell_type": "code",
   "execution_count": 13,
   "id": "51995b87-3e9c-4121-8993-598bbd3d0af7",
   "metadata": {
    "tags": []
   },
   "outputs": [],
   "source": [
    "edge_index_true_out = torch.tensor([test_edge_source_true_noBD, test_edge_dest_true_noBD], dtype=torch.long)\n",
    "edge_index_bkg_lone_out = torch.tensor([test_edge_source_bkg_lone_noBD, test_edge_dest_bkg_lone_noBD], dtype=torch.long)\n",
    "edge_index_bkg_cluster_lone_out = torch.tensor([test_edge_source_bkg_cluster_lone_noBD, test_edge_dest_bkg_cluster_lone_noBD], dtype=torch.long)\n",
    "edge_index_bkg_cluster_cluster_out = torch.tensor([test_edge_source_bkg_cluster_cluster_noBD, test_edge_dest_bkg_cluster_cluster_noBD], dtype=torch.long)"
   ]
  },
  {
   "cell_type": "code",
   "execution_count": 14,
   "id": "c1af4ee8",
   "metadata": {
    "tags": []
   },
   "outputs": [
    {
     "data": {
      "text/plain": [
       "torch.Size([2, 100, 9000])"
      ]
     },
     "execution_count": 14,
     "metadata": {},
     "output_type": "execute_result"
    }
   ],
   "source": [
    "edge_index_true_out.shape"
   ]
  },
  {
   "cell_type": "code",
   "execution_count": 15,
   "id": "170ae2f5",
   "metadata": {
    "tags": []
   },
   "outputs": [],
   "source": [
    "edge_index_true_out_ch = edge_index_true_out.permute(1, 0, 2)\n",
    "edge_index_bkg_lone_out_ch = edge_index_true_out.permute(1, 0, 2)\n",
    "edge_index_bkg_cluster_lone_out_ch = edge_index_bkg_cluster_lone_out.permute(1, 0, 2)\n",
    "edge_index_bkg_cluster_cluster_out_ch = edge_index_bkg_cluster_cluster_out.permute(1, 0, 2)"
   ]
  },
  {
   "cell_type": "code",
   "execution_count": 16,
   "id": "70149253",
   "metadata": {
    "tags": []
   },
   "outputs": [
    {
     "data": {
      "text/plain": [
       "torch.Size([100, 2, 9000])"
      ]
     },
     "execution_count": 16,
     "metadata": {},
     "output_type": "execute_result"
    }
   ],
   "source": [
    "edge_index_true_out_ch.shape"
   ]
  },
  {
   "cell_type": "markdown",
   "id": "88bcef6d",
   "metadata": {},
   "source": [
    "## Pytorch specific customizing for true and 3 different bkgs"
   ]
  },
  {
   "cell_type": "code",
   "execution_count": 17,
   "id": "27e93399-2df7-463d-a46a-f9dd0f4fa89c",
   "metadata": {
    "tags": []
   },
   "outputs": [],
   "source": [
    "# Generate data_list for test\n",
    "data_list_true = []\n",
    "for i in range(100):\n",
    "    x_mat = x[i]\n",
    "    edge_index = edge_index_true_ch[i]\n",
    "    edge_index, _ = add_self_loops(edge_index)\n",
    "    data = Data(x=x_mat, edge_index=edge_index, edge_index_out = edge_index_true_out_ch[i])\n",
    "    data = ToUndirected()(data)\n",
    "    data_list_true.append(data)"
   ]
  },
  {
   "cell_type": "code",
   "execution_count": 18,
   "id": "7dabf2f1-e489-4a2a-95e2-984c3b5b94a7",
   "metadata": {
    "tags": []
   },
   "outputs": [],
   "source": [
    "# Generate data_list for test\n",
    "data_list_bkg_lone = []\n",
    "for i in range(100):\n",
    "    x_mat = x[i]\n",
    "    edge_index = edge_index_bkg_lone_ch[i]\n",
    "    edge_index, _ = add_self_loops(edge_index)\n",
    "    data = Data(x=x_mat, edge_index=edge_index, edge_index_out = edge_index_bkg_lone_out_ch[i])\n",
    "    data = ToUndirected()(data)\n",
    "    data_list_bkg_lone.append(data)"
   ]
  },
  {
   "cell_type": "code",
   "execution_count": 19,
   "id": "18a015da-b18b-4023-b0e6-5c430e3bf4cf",
   "metadata": {
    "tags": []
   },
   "outputs": [],
   "source": [
    "# Generate data_list for test\n",
    "data_list_bkg_cluster_lone = []\n",
    "for i in range(100):\n",
    "    x_mat = x[i]\n",
    "    edge_index = edge_index_bkg_cluster_lone_ch[i]\n",
    "    edge_index, _ = add_self_loops(edge_index)\n",
    "    data = Data(x=x_mat, edge_index=edge_index, edge_index_out = edge_index_bkg_cluster_lone_out_ch[i])\n",
    "    data = ToUndirected()(data)\n",
    "    data_list_bkg_cluster_lone.append(data)"
   ]
  },
  {
   "cell_type": "code",
   "execution_count": 20,
   "id": "ed993a23-f77e-4e8a-9ef0-b82a62cff711",
   "metadata": {
    "tags": []
   },
   "outputs": [],
   "source": [
    "# Generate data_list for test\n",
    "data_list_bkg_cluster_cluster = []\n",
    "for i in range(100):\n",
    "    x_mat = x[i]\n",
    "    edge_index = edge_index_bkg_cluster_cluster_ch[i]\n",
    "    edge_index, _ = add_self_loops(edge_index)\n",
    "    data = Data(x=x_mat, edge_index=edge_index, edge_index_out = edge_index_bkg_cluster_cluster_out_ch[i])\n",
    "    data = ToUndirected()(data)\n",
    "    data_list_bkg_cluster_cluster.append(data)"
   ]
  },
  {
   "cell_type": "code",
   "execution_count": 21,
   "id": "5b7da986",
   "metadata": {
    "tags": []
   },
   "outputs": [],
   "source": [
    "ind0 = data_list_true[0].edge_index\n",
    "ind1 = data_list_true[1].edge_index\n",
    "ind2 = data_list_true[2].edge_index"
   ]
  },
  {
   "cell_type": "code",
   "execution_count": 22,
   "id": "ed6c3de8",
   "metadata": {
    "tags": []
   },
   "outputs": [
    {
     "name": "stdout",
     "output_type": "stream",
     "text": [
      "torch.Size([2, 205549])\n",
      "torch.Size([2, 205583])\n",
      "torch.Size([2, 205632])\n"
     ]
    }
   ],
   "source": [
    "print(ind0.shape)\n",
    "print(ind1.shape)\n",
    "print(ind2.shape)"
   ]
  },
  {
   "cell_type": "code",
   "execution_count": 23,
   "id": "5ae9cd41",
   "metadata": {
    "tags": []
   },
   "outputs": [
    {
     "data": {
      "text/plain": [
       "tensor([     0,      1,      2,  ..., 187548, 187548, 187548])"
      ]
     },
     "execution_count": 23,
     "metadata": {},
     "output_type": "execute_result"
    }
   ],
   "source": [
    "ind0[0,:]"
   ]
  },
  {
   "cell_type": "code",
   "execution_count": 24,
   "id": "8c3066fe",
   "metadata": {
    "tags": []
   },
   "outputs": [
    {
     "data": {
      "text/plain": [
       "tensor([     0,      1,      2,  ..., 187582, 187582, 187582])"
      ]
     },
     "execution_count": 24,
     "metadata": {},
     "output_type": "execute_result"
    }
   ],
   "source": [
    "ind1[0,:]"
   ]
  },
  {
   "cell_type": "code",
   "execution_count": 25,
   "id": "7d0cc172",
   "metadata": {
    "tags": []
   },
   "outputs": [
    {
     "data": {
      "text/plain": [
       "tensor([[     0,      1,      2,  ..., 187630, 187631, 187631],\n",
       "        [     0,      1,      2,  ..., 187630, 186838, 187631]])"
      ]
     },
     "execution_count": 25,
     "metadata": {},
     "output_type": "execute_result"
    }
   ],
   "source": [
    "ind2[:,:]"
   ]
  },
  {
   "cell_type": "code",
   "execution_count": 26,
   "id": "26374bb4",
   "metadata": {
    "tags": []
   },
   "outputs": [],
   "source": [
    "class CustomDataset(torch.utils.data.Dataset):\n",
    "    def __init__(self, data_list):\n",
    "        self.data_list = data_list\n",
    "\n",
    "    def __len__(self):\n",
    "        return len(self.data_list)\n",
    "\n",
    "    def __getitem__(self, idx):\n",
    "        return self.data_list[idx]"
   ]
  },
  {
   "cell_type": "code",
   "execution_count": 28,
   "id": "f69d2d9f-92ec-4476-9b49-8c54a9085dff",
   "metadata": {
    "tags": []
   },
   "outputs": [],
   "source": [
    "def collate_true(data_list_true):\n",
    "    batch_x = [data.x for data in data_list_true]\n",
    "    batch_edge_index = [data.edge_index for data in data_list_true]\n",
    "    batch_edge_index_out = [data.edge_index_out for data in data_list_true]\n",
    "    #batch_y = [data.y for data in data_list]\n",
    "\n",
    "    return batch_x, batch_edge_index, batch_edge_index_out"
   ]
  },
  {
   "cell_type": "code",
   "execution_count": 29,
   "id": "823b82d8-7338-40f7-b1c3-d1b1b991aaa6",
   "metadata": {
    "tags": []
   },
   "outputs": [],
   "source": [
    "def collate_bkg_lone(data_list_bkg_lone):\n",
    "    batch_x = [data.x for data in data_list_bkg_lone]\n",
    "    batch_edge_index = [data.edge_index for data in data_list_bkg_lone]\n",
    "    batch_edge_index_out = [data.edge_index_out for data in data_list_bkg_lone]\n",
    "    #batch_y = [data.y for data in data_list]\n",
    "\n",
    "    return batch_x, batch_edge_index, batch_edge_index_out"
   ]
  },
  {
   "cell_type": "code",
   "execution_count": 30,
   "id": "98f566a8-b17a-4ef7-9685-aeb7469ecfdb",
   "metadata": {
    "tags": []
   },
   "outputs": [],
   "source": [
    "def collate_bkg_cluster_lone(data_list_bkg_cluster_lone):\n",
    "    batch_x = [data.x for data in data_list_bkg_cluster_lone]\n",
    "    batch_edge_index = [data.edge_index for data in data_list_bkg_cluster_lone]\n",
    "    batch_edge_index_out = [data.edge_index_out for data in data_list_bkg_cluster_lone]\n",
    "    #batch_y = [data.y for data in data_list]\n",
    "\n",
    "    return batch_x, batch_edge_index, batch_edge_index_out"
   ]
  },
  {
   "cell_type": "code",
   "execution_count": 31,
   "id": "93ee61e1-c61a-4977-a83a-ed4b2c283d2d",
   "metadata": {
    "tags": []
   },
   "outputs": [],
   "source": [
    "def collate_bkg_cluster_cluster(data_list_bkg_cluster_cluster):\n",
    "    batch_x = [data.x for data in data_list_bkg_cluster_cluster]\n",
    "    batch_edge_index = [data.edge_index for data in data_list_bkg_cluster_cluster]\n",
    "    batch_edge_index_out = [data.edge_index_out for data in data_list_bkg_cluster_cluster]\n",
    "    #batch_y = [data.y for data in data_list]\n",
    "\n",
    "    return batch_x, batch_edge_index, batch_edge_index_out"
   ]
  },
  {
   "cell_type": "code",
   "execution_count": 32,
   "id": "0739a74d",
   "metadata": {
    "tags": []
   },
   "outputs": [],
   "source": [
    "custom_dataset_true = CustomDataset(data_list_true)\n",
    "custom_dataset_bkg_lone = CustomDataset(data_list_bkg_lone)\n",
    "custom_dataset_bkg_cluster_lone = CustomDataset(data_list_bkg_cluster_lone)\n",
    "custom_dataset_bkg_cluster_cluster = CustomDataset(data_list_bkg_cluster_cluster)"
   ]
  },
  {
   "cell_type": "code",
   "execution_count": 33,
   "id": "24cf7def",
   "metadata": {
    "tags": []
   },
   "outputs": [],
   "source": [
    "batch_size = 20\n",
    "data_loader_true = torch.utils.data.DataLoader(custom_dataset_true, batch_size=batch_size, collate_fn=collate_true)\n",
    "data_loader_bkg_lone = torch.utils.data.DataLoader(custom_dataset_bkg_lone, batch_size=batch_size, collate_fn=collate_bkg_lone)\n",
    "data_loader_bkg_cluster_lone = torch.utils.data.DataLoader(custom_dataset_bkg_cluster_lone, batch_size=batch_size, collate_fn=collate_bkg_cluster_lone)\n",
    "data_loader_bkg_cluster_cluster = torch.utils.data.DataLoader(custom_dataset_bkg_cluster_cluster, batch_size=batch_size, collate_fn=collate_bkg_cluster_cluster)"
   ]
  },
  {
   "cell_type": "code",
   "execution_count": 34,
   "id": "7d611904",
   "metadata": {
    "tags": []
   },
   "outputs": [],
   "source": [
    "#for batch_x, batch_edge_index, batch_edge_index_out, _ in data_loader:\n",
    "#    print(len(batch_edge_index))"
   ]
  },
  {
   "cell_type": "code",
   "execution_count": 35,
   "id": "5705b505-f00e-4e97-88ac-32eae9690ae0",
   "metadata": {
    "tags": []
   },
   "outputs": [
    {
     "name": "stdout",
     "output_type": "stream",
     "text": [
      "20\n",
      "20\n",
      "20\n",
      "20\n",
      "20\n"
     ]
    }
   ],
   "source": [
    "for batch_x, batch_edge_index, batch_edge_index_out in data_loader_true:\n",
    "    print(len(batch_edge_index))"
   ]
  },
  {
   "cell_type": "code",
   "execution_count": 36,
   "id": "b4df7d19",
   "metadata": {
    "tags": []
   },
   "outputs": [],
   "source": [
    "#y_test.shape"
   ]
  },
  {
   "cell_type": "code",
   "execution_count": 37,
   "id": "204b1c42",
   "metadata": {
    "tags": []
   },
   "outputs": [
    {
     "data": {
      "text/plain": [
       "torch.Size([2, 188671])"
      ]
     },
     "execution_count": 37,
     "metadata": {},
     "output_type": "execute_result"
    }
   ],
   "source": [
    "data.edge_index.shape"
   ]
  },
  {
   "cell_type": "code",
   "execution_count": 39,
   "id": "7f9dcb0b",
   "metadata": {
    "tags": []
   },
   "outputs": [
    {
     "data": {
      "text/plain": [
       "187652"
      ]
     },
     "execution_count": 39,
     "metadata": {},
     "output_type": "execute_result"
    }
   ],
   "source": [
    "x.size(1)"
   ]
  },
  {
   "cell_type": "code",
   "execution_count": 114,
   "id": "a9e79126-97fa-4e5b-a480-a92129a845b2",
   "metadata": {
    "tags": []
   },
   "outputs": [],
   "source": [
    "# Define the GNN model for edge classification\n",
    "class EdgeClassifier(nn.Module):\n",
    "    def __init__(self, input_dim, hidden_dim, output_dim):\n",
    "        super(EdgeClassifier, self).__init__()\n",
    "\n",
    "        # Node embedding layer\n",
    "        self.node_embedding = nn.Linear(input_dim, hidden_dim)\n",
    "\n",
    "        # Graph convolutional layers\n",
    "        self.conv1 = GCNConv(hidden_dim, 128)\n",
    "        self.bn1 = BatchNorm1d(128)\n",
    "        \n",
    "        self.conv2 = GCNConv(128, 64)\n",
    "        self.bn2 = BatchNorm1d(64)\n",
    "        \n",
    "        # Edge classification layer\n",
    "        self.fc = nn.Linear(128 , output_dim)\n",
    "\n",
    "    def forward(self, x, edge_index, edge_index_out):\n",
    "        edge_index = edge_index\n",
    "        x = self.node_embedding(x)\n",
    "        x = self.conv1(x, edge_index)\n",
    "        x = self.bn1(x)\n",
    "        x = torch.relu(x)\n",
    "        x = self.conv2(x, edge_index)\n",
    "        x = self.bn2(x)\n",
    "        x = torch.relu(x)\n",
    "\n",
    "        # Edge representations\n",
    "        edge_index_to_compare = edge_index_out\n",
    "        edge_rep = torch.cat([x[edge_index_to_compare[0]], x[edge_index_to_compare[1]]], dim=1)\n",
    "\n",
    "        # Edge classification\n",
    "        edge_scores = torch.sigmoid(self.fc(edge_rep))\n",
    "\n",
    "        return edge_scores"
   ]
  },
  {
   "cell_type": "code",
   "execution_count": 156,
   "id": "86934a4d-c38d-497f-881e-68b4ef4d4ed8",
   "metadata": {
    "tags": []
   },
   "outputs": [
    {
     "data": {
      "text/plain": [
       "<All keys matched successfully>"
      ]
     },
     "execution_count": 156,
     "metadata": {},
     "output_type": "execute_result"
    }
   ],
   "source": [
    "input_size = 8\n",
    "hidden_dim = 256\n",
    "output_dim = 1\n",
    "path = \"./GNNCalo_net_cluster_500evs_rand_batch3.pth\"\n",
    "model = EdgeClassifier(input_size, hidden_dim, output_dim )\n",
    "#model.load(torch.load(path))\n",
    "model.load_state_dict(torch.load(path))\n",
    "#model.eval()\n",
    "#model = torch.load(path)"
   ]
  },
  {
   "cell_type": "code",
   "execution_count": 157,
   "id": "21cd2c3b-d6d8-454f-a98f-b7b04b1695b7",
   "metadata": {
    "tags": []
   },
   "outputs": [
    {
     "name": "stdout",
     "output_type": "stream",
     "text": [
      "EdgeClassifier(\n",
      "  (node_embedding): Linear(in_features=8, out_features=256, bias=True)\n",
      "  (conv1): GCNConv(256, 128)\n",
      "  (bn1): BatchNorm1d(128, eps=1e-05, momentum=0.1, affine=True, track_running_stats=True)\n",
      "  (conv2): GCNConv(128, 64)\n",
      "  (bn2): BatchNorm1d(64, eps=1e-05, momentum=0.1, affine=True, track_running_stats=True)\n",
      "  (fc): Linear(in_features=128, out_features=1, bias=True)\n",
      ")\n"
     ]
    }
   ],
   "source": [
    "print(model)"
   ]
  },
  {
   "cell_type": "code",
   "execution_count": 177,
   "id": "c2c6e9d9-44a7-4622-bd01-5077162d33b3",
   "metadata": {
    "tags": []
   },
   "outputs": [],
   "source": [
    "device = torch.device('cuda' if torch.cuda.is_available() else 'cpu')\n",
    "all_scores = []  # List to collect all edge scores\n",
    "\n",
    "with torch.no_grad():\n",
    "    model.eval()\n",
    "    model.to(device)\n",
    "    \n",
    "    for batch_x, batch_edge_index, batch_edge_index_out in data_loader_bkg_lone:\n",
    "        batch_x = torch.stack(batch_x).to(device)\n",
    "        batch_edge_index = [edge_index.to(device) for edge_index in batch_edge_index]\n",
    "        batch_edge_index_out = [edge_index.to(device) for edge_index in batch_edge_index_out]\n",
    "        \n",
    "        for i in range(len(batch_edge_index)):\n",
    "            test_edge_scores = model(batch_x[i], batch_edge_index[i], batch_edge_index_out[i])\n",
    "            all_scores.append(test_edge_scores)\n",
    "\n",
    "# Concatenate the edge scores from all batches\n",
    "all_scores = torch.cat(all_scores, dim=0)"
   ]
  },
  {
   "cell_type": "code",
   "execution_count": 178,
   "id": "256f7a9c-18d2-4821-bc6a-07781dee14ae",
   "metadata": {
    "tags": []
   },
   "outputs": [
    {
     "data": {
      "text/plain": [
       "torch.Size([900000, 1])"
      ]
     },
     "execution_count": 178,
     "metadata": {},
     "output_type": "execute_result"
    }
   ],
   "source": [
    "all_scores.shape"
   ]
  },
  {
   "cell_type": "code",
   "execution_count": 179,
   "id": "2817dd6d-a9d4-4207-8440-a039ad0f3a93",
   "metadata": {
    "tags": []
   },
   "outputs": [],
   "source": [
    "all_scores = all_scores.cpu()"
   ]
  },
  {
   "cell_type": "code",
   "execution_count": 180,
   "id": "beb08ccb-bfca-4e02-9e43-c6dbbcfbe992",
   "metadata": {
    "tags": []
   },
   "outputs": [],
   "source": [
    "test_edge_scores_np = all_scores.detach().numpy()"
   ]
  },
  {
   "cell_type": "code",
   "execution_count": 181,
   "id": "a0c01874-cc04-4d68-9f27-50c42e642246",
   "metadata": {
    "tags": []
   },
   "outputs": [
    {
     "data": {
      "text/plain": [
       "(900000, 1)"
      ]
     },
     "execution_count": 181,
     "metadata": {},
     "output_type": "execute_result"
    }
   ],
   "source": [
    "test_edge_scores_np.shape"
   ]
  },
  {
   "cell_type": "code",
   "execution_count": 182,
   "id": "0654607b-085b-49aa-a060-fa1353912788",
   "metadata": {
    "tags": []
   },
   "outputs": [
    {
     "data": {
      "text/plain": [
       "(0.0, 1.0)"
      ]
     },
     "execution_count": 182,
     "metadata": {},
     "output_type": "execute_result"
    },
    {
     "data": {
      "image/png": "[encoded data removed]",
      "text/plain": [
       "<Figure size 640x480 with 1 Axes>"
      ]
     },
     "metadata": {},
     "output_type": "display_data"
    }
   ],
   "source": [
    "plt.hist(test_edge_scores_np, bins=50)\n",
    "#plt.yscale('log')\n",
    "plt.xlim(0,1)"
   ]
  }
 ],
 "metadata": {
  "kernelspec": {
   "display_name": "my_env",
   "language": "python",
   "name": "my_env"
  },
  "language_info": {
   "codemirror_mode": {
    "name": "ipython",
    "version": 3
   },
   "file_extension": ".py",
   "mimetype": "text/x-python",
   "name": "python",
   "nbconvert_exporter": "python",
   "pygments_lexer": "ipython3",
   "version": "3.8.6"
  }
 },
 "nbformat": 4,
 "nbformat_minor": 5
}
